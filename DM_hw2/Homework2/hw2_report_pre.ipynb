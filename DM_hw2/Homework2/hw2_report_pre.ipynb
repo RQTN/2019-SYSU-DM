{
 "cells": [
  {
   "cell_type": "markdown",
   "metadata": {},
   "source": [
    "# Homework 2: Multivariate Linear Regression\n",
    "`16340237 吴聪`"
   ]
  },
  {
   "cell_type": "markdown",
   "metadata": {},
   "source": [
    "导入模块"
   ]
  },
  {
   "cell_type": "code",
   "execution_count": 180,
   "metadata": {},
   "outputs": [],
   "source": [
    "import pandas as pd\n",
    "import numpy as np\n",
    "import matplotlib.pyplot as plt"
   ]
  },
  {
   "cell_type": "markdown",
   "metadata": {},
   "source": [
    "读取训练数据和测试数据"
   ]
  },
  {
   "cell_type": "code",
   "execution_count": 27,
   "metadata": {},
   "outputs": [
    {
     "name": "stdout",
     "output_type": "stream",
     "text": [
      "    size  distance   price\n",
      "0    101      1.70  641.48\n",
      "1    120      2.30  722.30\n",
      "2    115      4.00  569.43\n",
      "3    123      2.80  706.34\n",
      "4     98      1.20  657.44\n",
      "5    111      0.30  806.38\n",
      "6     85      0.92  589.95\n",
      "7     76      3.32  351.39\n",
      "8     78      4.80  261.71\n",
      "9     92      2.70  504.31\n",
      "10    84      6.11  207.35\n",
      "11   123      8.20  315.28\n",
      "12   142     12.40  143.38\n",
      "13    97      7.40  197.69\n",
      "14    75      5.55  187.10\n",
      "15    89      6.30  223.34\n",
      "16   159      9.40  475.41\n",
      "17   100      2.50  572.33\n",
      "18   102      6.40  307.86\n",
      "19   111      5.32  442.84\n",
      "20   134      8.40  379.00\n",
      "21    76      2.78  390.50\n",
      "22    88      3.44  427.71\n",
      "23    89      3.42  433.91\n",
      "24    68      2.69  347.00\n",
      "25    65      0.80  459.21\n",
      "26   132      8.80  336.58\n",
      "27   144     12.40  152.88\n",
      "28   116      6.70  380.40\n",
      "29   108      3.86  528.32\n",
      "30    62      4.20  197.15\n",
      "31    99      7.30  218.72\n",
      "32   118      5.40  488.31\n",
      "33    61      3.33  249.40\n",
      "34   150      7.50  552.10\n",
      "35   132      6.42  504.95\n",
      "36   122      9.38  227.08\n",
      "37    75      4.53  257.01\n",
      "38    71      3.77  289.04\n",
      "39    86      6.72  172.67\n",
      "40    77      4.63  267.27\n",
      "41    93      4.55  377.08\n",
      "42    91      3.70  429.14\n",
      "43    68      4.32  224.96\n",
      "44   108      8.51  195.56\n",
      "45   112     10.40   81.69\n",
      "46   121      3.54  643.25\n",
      "47   107      2.78  599.77\n",
      "48   143      1.64  929.37\n",
      "49    61      0.80  432.63\n"
     ]
    }
   ],
   "source": [
    "trainData = pd.read_csv('dataForTraining.txt', sep=' ', header=None)\n",
    "trainData.columns = ['size', 'distance', 'price']\n",
    "print(trainData)"
   ]
  },
  {
   "cell_type": "code",
   "execution_count": 29,
   "metadata": {},
   "outputs": [
    {
     "name": "stdout",
     "output_type": "stream",
     "text": [
      "   size  distance   price\n",
      "0    93      0.78  637.07\n",
      "1   104      3.82  494.08\n",
      "2   110      4.27  502.26\n",
      "3    69      5.20  166.46\n",
      "4    80      1.22  521.05\n",
      "5    79      0.87  539.17\n",
      "6   128      5.54  530.48\n",
      "7   107      4.51  465.21\n",
      "8    75      3.20  347.30\n",
      "9    96      1.55  602.54\n"
     ]
    }
   ],
   "source": [
    "testData = pd.read_csv('dataForTesting.txt', sep=' ', header=None)\n",
    "testData.columns = ['size', 'distance', 'price']\n",
    "print(testData)"
   ]
  },
  {
   "cell_type": "markdown",
   "metadata": {},
   "source": [
    "分析，这是一个二元线性回归问题。<br/>\n",
    "\n",
    "$$\n",
    "Y = X\\theta+\\epsilon\\\\\n",
    "= \\begin{bmatrix}x_{size0}&x_{dis0}&1\\\\x_{size1}&x_{dis1}&1\\\\...&...&1\\\\x_{size49}&x_{dis49}&1\\end{bmatrix}\\begin{bmatrix}\\theta_{size}\\\\\\theta_{dis}\\\\\\theta_{b}\\end{bmatrix}+\\begin{bmatrix}\\epsilon_0\\\\\\epsilon_1\\\\...\\\\\\epsilon_{49}\\end{bmatrix}\n",
    "$$"
   ]
  },
  {
   "cell_type": "markdown",
   "metadata": {},
   "source": [
    "显然我们需要 3 个参数，分别是 $\\theta_{size}$，$\\theta_{dis}$ 和 $\\theta_{b}$。"
   ]
  },
  {
   "cell_type": "markdown",
   "metadata": {},
   "source": [
    "参数设置"
   ]
  },
  {
   "cell_type": "code",
   "execution_count": 225,
   "metadata": {},
   "outputs": [],
   "source": [
    "# hyper-parameter\n",
    "lr = 15e-5\n",
    "# lr = 2e-4\n",
    "num_epochs = 100000"
   ]
  },
  {
   "cell_type": "markdown",
   "metadata": {},
   "source": [
    "数据准备"
   ]
  },
  {
   "cell_type": "code",
   "execution_count": 246,
   "metadata": {},
   "outputs": [
    {
     "name": "stdout",
     "output_type": "stream",
     "text": [
      "(50, 3)\n"
     ]
    }
   ],
   "source": [
    "X = np.array(trainData.iloc[:, 0:2])\n",
    "b = np.ones([len(trainData), 1])\n",
    "X = np.c_[X, b]\n",
    "print(X.shape)"
   ]
  },
  {
   "cell_type": "code",
   "execution_count": 258,
   "metadata": {},
   "outputs": [
    {
     "name": "stdout",
     "output_type": "stream",
     "text": [
      "(50, 1)\n"
     ]
    }
   ],
   "source": [
    "Y = np.array(trainData.iloc[:, 2])\n",
    "Y = np.c_[Y]\n",
    "print(Y.shape)"
   ]
  },
  {
   "cell_type": "code",
   "execution_count": 267,
   "metadata": {},
   "outputs": [
    {
     "data": {
      "text/plain": [
       "array([[0.],\n",
       "       [0.],\n",
       "       [0.]])"
      ]
     },
     "execution_count": 267,
     "metadata": {},
     "output_type": "execute_result"
    }
   ],
   "source": [
    "thetas = np.zeros([3, 1])\n",
    "thetas"
   ]
  },
  {
   "cell_type": "code",
   "execution_count": 268,
   "metadata": {
    "scrolled": true
   },
   "outputs": [
    {
     "data": {
      "text/plain": [
       "array([[0.],\n",
       "       [0.],\n",
       "       [0.],\n",
       "       [0.],\n",
       "       [0.],\n",
       "       [0.],\n",
       "       [0.],\n",
       "       [0.],\n",
       "       [0.],\n",
       "       [0.],\n",
       "       [0.],\n",
       "       [0.],\n",
       "       [0.],\n",
       "       [0.],\n",
       "       [0.],\n",
       "       [0.],\n",
       "       [0.],\n",
       "       [0.],\n",
       "       [0.],\n",
       "       [0.],\n",
       "       [0.],\n",
       "       [0.],\n",
       "       [0.],\n",
       "       [0.],\n",
       "       [0.],\n",
       "       [0.],\n",
       "       [0.],\n",
       "       [0.],\n",
       "       [0.],\n",
       "       [0.],\n",
       "       [0.],\n",
       "       [0.],\n",
       "       [0.],\n",
       "       [0.],\n",
       "       [0.],\n",
       "       [0.],\n",
       "       [0.],\n",
       "       [0.],\n",
       "       [0.],\n",
       "       [0.],\n",
       "       [0.],\n",
       "       [0.],\n",
       "       [0.],\n",
       "       [0.],\n",
       "       [0.],\n",
       "       [0.],\n",
       "       [0.],\n",
       "       [0.],\n",
       "       [0.],\n",
       "       [0.]])"
      ]
     },
     "execution_count": 268,
     "metadata": {},
     "output_type": "execute_result"
    }
   ],
   "source": [
    "np.matmul(X, thetas)"
   ]
  },
  {
   "cell_type": "markdown",
   "metadata": {},
   "source": [
    "GD：梯度下降"
   ]
  },
  {
   "cell_type": "code",
   "execution_count": 278,
   "metadata": {},
   "outputs": [
    {
     "data": {
      "text/plain": [
       "98195.094683"
      ]
     },
     "execution_count": 278,
     "metadata": {},
     "output_type": "execute_result"
    }
   ],
   "source": [
    "lhs = Y-np.matmul(X, thetas)\n",
    "tmp = lhs**2\n",
    "tmp.sum()/(2*len(tmp))"
   ]
  },
  {
   "cell_type": "code",
   "execution_count": 159,
   "metadata": {
    "scrolled": true
   },
   "outputs": [
    {
     "data": {
      "text/plain": [
       "array([[6.4789480e+04, 1.0905160e+03, 6.4148000e+02],\n",
       "       [8.6676000e+04, 1.6612900e+03, 7.2230000e+02],\n",
       "       [6.5484450e+04, 2.2777200e+03, 5.6943000e+02],\n",
       "       [8.6879820e+04, 1.9777520e+03, 7.0634000e+02],\n",
       "       [6.4429120e+04, 7.8892800e+02, 6.5744000e+02],\n",
       "       [8.9508180e+04, 2.4191400e+02, 8.0638000e+02],\n",
       "       [5.0145750e+04, 5.4275400e+02, 5.8995000e+02],\n",
       "       [2.6705640e+04, 1.1666148e+03, 3.5139000e+02],\n",
       "       [2.0413380e+04, 1.2562080e+03, 2.6171000e+02],\n",
       "       [4.6396520e+04, 1.3616370e+03, 5.0431000e+02],\n",
       "       [1.7417400e+04, 1.2669085e+03, 2.0735000e+02],\n",
       "       [3.8779440e+04, 2.5852960e+03, 3.1528000e+02],\n",
       "       [2.0359960e+04, 1.7779120e+03, 1.4338000e+02],\n",
       "       [1.9175930e+04, 1.4629060e+03, 1.9769000e+02],\n",
       "       [1.4032500e+04, 1.0384050e+03, 1.8710000e+02],\n",
       "       [1.9877260e+04, 1.4070420e+03, 2.2334000e+02],\n",
       "       [7.5590190e+04, 4.4688540e+03, 4.7541000e+02],\n",
       "       [5.7233000e+04, 1.4308250e+03, 5.7233000e+02],\n",
       "       [3.1401720e+04, 1.9703040e+03, 3.0786000e+02],\n",
       "       [4.9155240e+04, 2.3559088e+03, 4.4284000e+02],\n",
       "       [5.0786000e+04, 3.1836000e+03, 3.7900000e+02],\n",
       "       [2.9678000e+04, 1.0855900e+03, 3.9050000e+02],\n",
       "       [3.7638480e+04, 1.4713224e+03, 4.2771000e+02],\n",
       "       [3.8617990e+04, 1.4839722e+03, 4.3391000e+02],\n",
       "       [2.3596000e+04, 9.3343000e+02, 3.4700000e+02],\n",
       "       [2.9848650e+04, 3.6736800e+02, 4.5921000e+02],\n",
       "       [4.4428560e+04, 2.9619040e+03, 3.3658000e+02],\n",
       "       [2.2014720e+04, 1.8957120e+03, 1.5288000e+02],\n",
       "       [4.4126400e+04, 2.5486800e+03, 3.8040000e+02],\n",
       "       [5.7058560e+04, 2.0393152e+03, 5.2832000e+02],\n",
       "       [1.2223300e+04, 8.2803000e+02, 1.9715000e+02],\n",
       "       [2.1653280e+04, 1.5966560e+03, 2.1872000e+02],\n",
       "       [5.7620580e+04, 2.6368740e+03, 4.8831000e+02],\n",
       "       [1.5213400e+04, 8.3050200e+02, 2.4940000e+02],\n",
       "       [8.2815000e+04, 4.1407500e+03, 5.5210000e+02],\n",
       "       [6.6653400e+04, 3.2417790e+03, 5.0495000e+02],\n",
       "       [2.7703760e+04, 2.1300104e+03, 2.2708000e+02],\n",
       "       [1.9275750e+04, 1.1642553e+03, 2.5701000e+02],\n",
       "       [2.0521840e+04, 1.0896808e+03, 2.8904000e+02],\n",
       "       [1.4849620e+04, 1.1603424e+03, 1.7267000e+02],\n",
       "       [2.0579790e+04, 1.2374601e+03, 2.6727000e+02],\n",
       "       [3.5068440e+04, 1.7157140e+03, 3.7708000e+02],\n",
       "       [3.9051740e+04, 1.5878180e+03, 4.2914000e+02],\n",
       "       [1.5297280e+04, 9.7182720e+02, 2.2496000e+02],\n",
       "       [2.1120480e+04, 1.6642156e+03, 1.9556000e+02],\n",
       "       [9.1492800e+03, 8.4957600e+02, 8.1690000e+01],\n",
       "       [7.7833250e+04, 2.2771050e+03, 6.4325000e+02],\n",
       "       [6.4175390e+04, 1.6673606e+03, 5.9977000e+02],\n",
       "       [1.3289991e+05, 1.5241668e+03, 9.2937000e+02],\n",
       "       [2.6390430e+04, 3.4610400e+02, 4.3263000e+02]])"
      ]
     },
     "execution_count": 159,
     "metadata": {},
     "output_type": "execute_result"
    }
   ],
   "source": [
    "grad = np.multiply(lhs, X)\n",
    "grad"
   ]
  },
  {
   "cell_type": "code",
   "execution_count": 162,
   "metadata": {},
   "outputs": [
    {
     "name": "stdout",
     "output_type": "stream",
     "text": [
      "[2102340.26     82760.8161   20055.97  ]\n",
      "2.2051570460999996\n"
     ]
    }
   ],
   "source": [
    "print(grad.sum(axis=0))\n",
    "len(grad)\n",
    "print(np.mean(lr*grad.sum(axis=0).reshape(-1, 1)/len(grad)))"
   ]
  },
  {
   "cell_type": "code",
   "execution_count": 266,
   "metadata": {},
   "outputs": [
    {
     "name": "stderr",
     "output_type": "stream",
     "text": [
      "D:\\Anaconda3\\lib\\site-packages\\ipykernel_launcher.py:9: RuntimeWarning: invalid value encountered in matmul\n",
      "  if __name__ == '__main__':\n",
      "D:\\Anaconda3\\lib\\site-packages\\ipykernel_launcher.py:11: RuntimeWarning: invalid value encountered in add\n",
      "  # This is added back by InteractiveShellApp.init_path()\n"
     ]
    },
    {
     "name": "stdout",
     "output_type": "stream",
     "text": [
      "nan\n",
      "nan\n",
      "nan\n",
      "nan\n",
      "nan\n",
      "nan\n",
      "nan\n"
     ]
    },
    {
     "ename": "KeyboardInterrupt",
     "evalue": "",
     "output_type": "error",
     "traceback": [
      "\u001b[1;31m---------------------------------------------------------------------------\u001b[0m",
      "\u001b[1;31mKeyboardInterrupt\u001b[0m                         Traceback (most recent call last)",
      "\u001b[1;32m<ipython-input-266-d94c905c1699>\u001b[0m in \u001b[0;36m<module>\u001b[1;34m\u001b[0m\n\u001b[0;32m      9\u001b[0m     \u001b[0mlhs\u001b[0m \u001b[1;33m=\u001b[0m \u001b[0mY\u001b[0m\u001b[1;33m-\u001b[0m\u001b[0mnp\u001b[0m\u001b[1;33m.\u001b[0m\u001b[0mmatmul\u001b[0m\u001b[1;33m(\u001b[0m\u001b[0mX\u001b[0m\u001b[1;33m,\u001b[0m \u001b[0mthetas\u001b[0m\u001b[1;33m)\u001b[0m\u001b[1;33m\u001b[0m\u001b[1;33m\u001b[0m\u001b[0m\n\u001b[0;32m     10\u001b[0m     \u001b[0mgrad\u001b[0m \u001b[1;33m=\u001b[0m \u001b[0mnp\u001b[0m\u001b[1;33m.\u001b[0m\u001b[0mmultiply\u001b[0m\u001b[1;33m(\u001b[0m\u001b[0mlhs\u001b[0m\u001b[1;33m,\u001b[0m \u001b[0mX\u001b[0m\u001b[1;33m)\u001b[0m\u001b[1;33m\u001b[0m\u001b[1;33m\u001b[0m\u001b[0m\n\u001b[1;32m---> 11\u001b[1;33m     \u001b[0mthetas\u001b[0m \u001b[1;33m+=\u001b[0m \u001b[0mlr\u001b[0m\u001b[1;33m*\u001b[0m\u001b[0mgrad\u001b[0m\u001b[1;33m.\u001b[0m\u001b[0msum\u001b[0m\u001b[1;33m(\u001b[0m\u001b[0maxis\u001b[0m\u001b[1;33m=\u001b[0m\u001b[1;36m0\u001b[0m\u001b[1;33m)\u001b[0m\u001b[1;33m.\u001b[0m\u001b[0mreshape\u001b[0m\u001b[1;33m(\u001b[0m\u001b[1;33m-\u001b[0m\u001b[1;36m1\u001b[0m\u001b[1;33m,\u001b[0m \u001b[1;36m1\u001b[0m\u001b[1;33m)\u001b[0m\u001b[1;33m/\u001b[0m\u001b[0mlen\u001b[0m\u001b[1;33m(\u001b[0m\u001b[0mgrad\u001b[0m\u001b[1;33m)\u001b[0m\u001b[1;33m\u001b[0m\u001b[1;33m\u001b[0m\u001b[0m\n\u001b[0m\u001b[0;32m     12\u001b[0m     \u001b[1;32mif\u001b[0m \u001b[1;33m(\u001b[0m\u001b[0mi\u001b[0m \u001b[1;33m+\u001b[0m \u001b[1;36m1\u001b[0m\u001b[1;33m)\u001b[0m \u001b[1;33m%\u001b[0m \u001b[1;36m100000\u001b[0m \u001b[1;33m==\u001b[0m \u001b[1;36m0\u001b[0m\u001b[1;33m:\u001b[0m\u001b[1;33m\u001b[0m\u001b[1;33m\u001b[0m\u001b[0m\n\u001b[0;32m     13\u001b[0m         \u001b[0mprint\u001b[0m\u001b[1;33m(\u001b[0m\u001b[0mnp\u001b[0m\u001b[1;33m.\u001b[0m\u001b[0mmean\u001b[0m\u001b[1;33m(\u001b[0m\u001b[0mlhs\u001b[0m\u001b[1;33m)\u001b[0m\u001b[1;33m)\u001b[0m\u001b[1;33m\u001b[0m\u001b[1;33m\u001b[0m\u001b[0m\n",
      "\u001b[1;31mKeyboardInterrupt\u001b[0m: "
     ]
    }
   ],
   "source": [
    "thetas = np.zeros([3, 1])\n",
    "# hyper-parameter\n",
    "# lr = 15e-5\n",
    "# lr = 2e-4\n",
    "num_epochs = 2000000\n",
    "xs = range(num_epochs)\n",
    "ys = []\n",
    "for i in range(num_epochs):\n",
    "    lhs = Y-np.matmul(X, thetas)\n",
    "    grad = np.multiply(lhs, X)\n",
    "    thetas += lr*grad.sum(axis=0).reshape(-1, 1)/len(grad)\n",
    "    if (i + 1) % 100000 == 0:\n",
    "        print(np.mean(lhs))"
   ]
  },
  {
   "cell_type": "code",
   "execution_count": 260,
   "metadata": {},
   "outputs": [
    {
     "name": "stdout",
     "output_type": "stream",
     "text": [
      "[[  6.76193779]\n",
      " [-72.38088045]\n",
      " [ 79.46388911]]\n"
     ]
    }
   ],
   "source": [
    "print(thetas)"
   ]
  },
  {
   "cell_type": "code",
   "execution_count": 253,
   "metadata": {},
   "outputs": [
    {
     "name": "stdout",
     "output_type": "stream",
     "text": [
      "[[ 93.     0.78   1.  ]\n",
      " [104.     3.82   1.  ]\n",
      " [110.     4.27   1.  ]\n",
      " [ 69.     5.2    1.  ]\n",
      " [ 80.     1.22   1.  ]\n",
      " [ 79.     0.87   1.  ]\n",
      " [128.     5.54   1.  ]\n",
      " [107.     4.51   1.  ]\n",
      " [ 75.     3.2    1.  ]\n",
      " [ 96.     1.55   1.  ]]\n"
     ]
    }
   ],
   "source": [
    "test_X = np.array(testData.iloc[:, 0:2])\n",
    "b = np.ones([len(testData), 1])\n",
    "test_X = np.c_[test_X, b]\n",
    "print(test_X)\n"
   ]
  },
  {
   "cell_type": "code",
   "execution_count": 257,
   "metadata": {},
   "outputs": [
    {
     "data": {
      "text/plain": [
       "array([[637.07],\n",
       "       [494.08],\n",
       "       [502.26],\n",
       "       [166.46],\n",
       "       [521.05],\n",
       "       [539.17],\n",
       "       [530.48],\n",
       "       [465.21],\n",
       "       [347.3 ],\n",
       "       [602.54]])"
      ]
     },
     "execution_count": 257,
     "metadata": {},
     "output_type": "execute_result"
    }
   ],
   "source": [
    "test_Y = np.array(testData.iloc[:, 2])\n",
    "test_Y = np.reshape(Y, [-1, 1])\n",
    "test_Y"
   ]
  },
  {
   "cell_type": "code",
   "execution_count": 263,
   "metadata": {},
   "outputs": [
    {
     "data": {
      "text/plain": [
       "array([[651.86701693],\n",
       "       [506.21045607],\n",
       "       [514.21068661],\n",
       "       [169.65701836],\n",
       "       [532.11423825],\n",
       "       [550.68560862],\n",
       "       [544.00184868],\n",
       "       [476.55346193],\n",
       "       [354.99040601],\n",
       "       [616.41955236]])"
      ]
     },
     "execution_count": 263,
     "metadata": {},
     "output_type": "execute_result"
    }
   ],
   "source": [
    "np.matmul(test_X, thetas)"
   ]
  }
 ],
 "metadata": {
  "kernelspec": {
   "display_name": "Python 3",
   "language": "python",
   "name": "python3"
  },
  "language_info": {
   "codemirror_mode": {
    "name": "ipython",
    "version": 3
   },
   "file_extension": ".py",
   "mimetype": "text/x-python",
   "name": "python",
   "nbconvert_exporter": "python",
   "pygments_lexer": "ipython3",
   "version": "3.7.2"
  }
 },
 "nbformat": 4,
 "nbformat_minor": 2
}
