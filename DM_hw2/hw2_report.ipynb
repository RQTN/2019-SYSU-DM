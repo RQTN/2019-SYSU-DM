{
 "cells": [
  {
   "cell_type": "markdown",
   "metadata": {},
   "source": [
    "# Homework 2: Multivariate Linear Regression\n",
    "`16340237 吴聪`"
   ]
  },
  {
   "cell_type": "markdown",
   "metadata": {},
   "source": [
    "## Prepare"
   ]
  },
  {
   "cell_type": "markdown",
   "metadata": {},
   "source": [
    "1.导入模块"
   ]
  },
  {
   "cell_type": "code",
   "execution_count": 2,
   "metadata": {},
   "outputs": [],
   "source": [
    "import pandas as pd\n",
    "import numpy as np\n",
    "import matplotlib.pyplot as plt"
   ]
  },
  {
   "cell_type": "markdown",
   "metadata": {},
   "source": [
    "2.读取训练数据和测试数据"
   ]
  },
  {
   "cell_type": "code",
   "execution_count": 10,
   "metadata": {},
   "outputs": [
    {
     "data": {
      "text/html": [
       "<div>\n",
       "<style scoped>\n",
       "    .dataframe tbody tr th:only-of-type {\n",
       "        vertical-align: middle;\n",
       "    }\n",
       "\n",
       "    .dataframe tbody tr th {\n",
       "        vertical-align: top;\n",
       "    }\n",
       "\n",
       "    .dataframe thead th {\n",
       "        text-align: right;\n",
       "    }\n",
       "</style>\n",
       "<table border=\"1\" class=\"dataframe\">\n",
       "  <thead>\n",
       "    <tr style=\"text-align: right;\">\n",
       "      <th></th>\n",
       "      <th>size</th>\n",
       "      <th>distance</th>\n",
       "      <th>price</th>\n",
       "    </tr>\n",
       "  </thead>\n",
       "  <tbody>\n",
       "    <tr>\n",
       "      <th>0</th>\n",
       "      <td>101</td>\n",
       "      <td>1.70</td>\n",
       "      <td>641.48</td>\n",
       "    </tr>\n",
       "    <tr>\n",
       "      <th>1</th>\n",
       "      <td>120</td>\n",
       "      <td>2.30</td>\n",
       "      <td>722.30</td>\n",
       "    </tr>\n",
       "    <tr>\n",
       "      <th>2</th>\n",
       "      <td>115</td>\n",
       "      <td>4.00</td>\n",
       "      <td>569.43</td>\n",
       "    </tr>\n",
       "    <tr>\n",
       "      <th>3</th>\n",
       "      <td>123</td>\n",
       "      <td>2.80</td>\n",
       "      <td>706.34</td>\n",
       "    </tr>\n",
       "    <tr>\n",
       "      <th>4</th>\n",
       "      <td>98</td>\n",
       "      <td>1.20</td>\n",
       "      <td>657.44</td>\n",
       "    </tr>\n",
       "    <tr>\n",
       "      <th>5</th>\n",
       "      <td>111</td>\n",
       "      <td>0.30</td>\n",
       "      <td>806.38</td>\n",
       "    </tr>\n",
       "    <tr>\n",
       "      <th>6</th>\n",
       "      <td>85</td>\n",
       "      <td>0.92</td>\n",
       "      <td>589.95</td>\n",
       "    </tr>\n",
       "    <tr>\n",
       "      <th>7</th>\n",
       "      <td>76</td>\n",
       "      <td>3.32</td>\n",
       "      <td>351.39</td>\n",
       "    </tr>\n",
       "    <tr>\n",
       "      <th>8</th>\n",
       "      <td>78</td>\n",
       "      <td>4.80</td>\n",
       "      <td>261.71</td>\n",
       "    </tr>\n",
       "    <tr>\n",
       "      <th>9</th>\n",
       "      <td>92</td>\n",
       "      <td>2.70</td>\n",
       "      <td>504.31</td>\n",
       "    </tr>\n",
       "    <tr>\n",
       "      <th>10</th>\n",
       "      <td>84</td>\n",
       "      <td>6.11</td>\n",
       "      <td>207.35</td>\n",
       "    </tr>\n",
       "    <tr>\n",
       "      <th>11</th>\n",
       "      <td>123</td>\n",
       "      <td>8.20</td>\n",
       "      <td>315.28</td>\n",
       "    </tr>\n",
       "    <tr>\n",
       "      <th>12</th>\n",
       "      <td>142</td>\n",
       "      <td>12.40</td>\n",
       "      <td>143.38</td>\n",
       "    </tr>\n",
       "    <tr>\n",
       "      <th>13</th>\n",
       "      <td>97</td>\n",
       "      <td>7.40</td>\n",
       "      <td>197.69</td>\n",
       "    </tr>\n",
       "    <tr>\n",
       "      <th>14</th>\n",
       "      <td>75</td>\n",
       "      <td>5.55</td>\n",
       "      <td>187.10</td>\n",
       "    </tr>\n",
       "    <tr>\n",
       "      <th>15</th>\n",
       "      <td>89</td>\n",
       "      <td>6.30</td>\n",
       "      <td>223.34</td>\n",
       "    </tr>\n",
       "    <tr>\n",
       "      <th>16</th>\n",
       "      <td>159</td>\n",
       "      <td>9.40</td>\n",
       "      <td>475.41</td>\n",
       "    </tr>\n",
       "    <tr>\n",
       "      <th>17</th>\n",
       "      <td>100</td>\n",
       "      <td>2.50</td>\n",
       "      <td>572.33</td>\n",
       "    </tr>\n",
       "    <tr>\n",
       "      <th>18</th>\n",
       "      <td>102</td>\n",
       "      <td>6.40</td>\n",
       "      <td>307.86</td>\n",
       "    </tr>\n",
       "    <tr>\n",
       "      <th>19</th>\n",
       "      <td>111</td>\n",
       "      <td>5.32</td>\n",
       "      <td>442.84</td>\n",
       "    </tr>\n",
       "    <tr>\n",
       "      <th>20</th>\n",
       "      <td>134</td>\n",
       "      <td>8.40</td>\n",
       "      <td>379.00</td>\n",
       "    </tr>\n",
       "    <tr>\n",
       "      <th>21</th>\n",
       "      <td>76</td>\n",
       "      <td>2.78</td>\n",
       "      <td>390.50</td>\n",
       "    </tr>\n",
       "    <tr>\n",
       "      <th>22</th>\n",
       "      <td>88</td>\n",
       "      <td>3.44</td>\n",
       "      <td>427.71</td>\n",
       "    </tr>\n",
       "    <tr>\n",
       "      <th>23</th>\n",
       "      <td>89</td>\n",
       "      <td>3.42</td>\n",
       "      <td>433.91</td>\n",
       "    </tr>\n",
       "    <tr>\n",
       "      <th>24</th>\n",
       "      <td>68</td>\n",
       "      <td>2.69</td>\n",
       "      <td>347.00</td>\n",
       "    </tr>\n",
       "    <tr>\n",
       "      <th>25</th>\n",
       "      <td>65</td>\n",
       "      <td>0.80</td>\n",
       "      <td>459.21</td>\n",
       "    </tr>\n",
       "    <tr>\n",
       "      <th>26</th>\n",
       "      <td>132</td>\n",
       "      <td>8.80</td>\n",
       "      <td>336.58</td>\n",
       "    </tr>\n",
       "    <tr>\n",
       "      <th>27</th>\n",
       "      <td>144</td>\n",
       "      <td>12.40</td>\n",
       "      <td>152.88</td>\n",
       "    </tr>\n",
       "    <tr>\n",
       "      <th>28</th>\n",
       "      <td>116</td>\n",
       "      <td>6.70</td>\n",
       "      <td>380.40</td>\n",
       "    </tr>\n",
       "    <tr>\n",
       "      <th>29</th>\n",
       "      <td>108</td>\n",
       "      <td>3.86</td>\n",
       "      <td>528.32</td>\n",
       "    </tr>\n",
       "    <tr>\n",
       "      <th>30</th>\n",
       "      <td>62</td>\n",
       "      <td>4.20</td>\n",
       "      <td>197.15</td>\n",
       "    </tr>\n",
       "    <tr>\n",
       "      <th>31</th>\n",
       "      <td>99</td>\n",
       "      <td>7.30</td>\n",
       "      <td>218.72</td>\n",
       "    </tr>\n",
       "    <tr>\n",
       "      <th>32</th>\n",
       "      <td>118</td>\n",
       "      <td>5.40</td>\n",
       "      <td>488.31</td>\n",
       "    </tr>\n",
       "    <tr>\n",
       "      <th>33</th>\n",
       "      <td>61</td>\n",
       "      <td>3.33</td>\n",
       "      <td>249.40</td>\n",
       "    </tr>\n",
       "    <tr>\n",
       "      <th>34</th>\n",
       "      <td>150</td>\n",
       "      <td>7.50</td>\n",
       "      <td>552.10</td>\n",
       "    </tr>\n",
       "    <tr>\n",
       "      <th>35</th>\n",
       "      <td>132</td>\n",
       "      <td>6.42</td>\n",
       "      <td>504.95</td>\n",
       "    </tr>\n",
       "    <tr>\n",
       "      <th>36</th>\n",
       "      <td>122</td>\n",
       "      <td>9.38</td>\n",
       "      <td>227.08</td>\n",
       "    </tr>\n",
       "    <tr>\n",
       "      <th>37</th>\n",
       "      <td>75</td>\n",
       "      <td>4.53</td>\n",
       "      <td>257.01</td>\n",
       "    </tr>\n",
       "    <tr>\n",
       "      <th>38</th>\n",
       "      <td>71</td>\n",
       "      <td>3.77</td>\n",
       "      <td>289.04</td>\n",
       "    </tr>\n",
       "    <tr>\n",
       "      <th>39</th>\n",
       "      <td>86</td>\n",
       "      <td>6.72</td>\n",
       "      <td>172.67</td>\n",
       "    </tr>\n",
       "    <tr>\n",
       "      <th>40</th>\n",
       "      <td>77</td>\n",
       "      <td>4.63</td>\n",
       "      <td>267.27</td>\n",
       "    </tr>\n",
       "    <tr>\n",
       "      <th>41</th>\n",
       "      <td>93</td>\n",
       "      <td>4.55</td>\n",
       "      <td>377.08</td>\n",
       "    </tr>\n",
       "    <tr>\n",
       "      <th>42</th>\n",
       "      <td>91</td>\n",
       "      <td>3.70</td>\n",
       "      <td>429.14</td>\n",
       "    </tr>\n",
       "    <tr>\n",
       "      <th>43</th>\n",
       "      <td>68</td>\n",
       "      <td>4.32</td>\n",
       "      <td>224.96</td>\n",
       "    </tr>\n",
       "    <tr>\n",
       "      <th>44</th>\n",
       "      <td>108</td>\n",
       "      <td>8.51</td>\n",
       "      <td>195.56</td>\n",
       "    </tr>\n",
       "    <tr>\n",
       "      <th>45</th>\n",
       "      <td>112</td>\n",
       "      <td>10.40</td>\n",
       "      <td>81.69</td>\n",
       "    </tr>\n",
       "    <tr>\n",
       "      <th>46</th>\n",
       "      <td>121</td>\n",
       "      <td>3.54</td>\n",
       "      <td>643.25</td>\n",
       "    </tr>\n",
       "    <tr>\n",
       "      <th>47</th>\n",
       "      <td>107</td>\n",
       "      <td>2.78</td>\n",
       "      <td>599.77</td>\n",
       "    </tr>\n",
       "    <tr>\n",
       "      <th>48</th>\n",
       "      <td>143</td>\n",
       "      <td>1.64</td>\n",
       "      <td>929.37</td>\n",
       "    </tr>\n",
       "    <tr>\n",
       "      <th>49</th>\n",
       "      <td>61</td>\n",
       "      <td>0.80</td>\n",
       "      <td>432.63</td>\n",
       "    </tr>\n",
       "  </tbody>\n",
       "</table>\n",
       "</div>"
      ],
      "text/plain": [
       "    size  distance   price\n",
       "0    101      1.70  641.48\n",
       "1    120      2.30  722.30\n",
       "2    115      4.00  569.43\n",
       "3    123      2.80  706.34\n",
       "4     98      1.20  657.44\n",
       "5    111      0.30  806.38\n",
       "6     85      0.92  589.95\n",
       "7     76      3.32  351.39\n",
       "8     78      4.80  261.71\n",
       "9     92      2.70  504.31\n",
       "10    84      6.11  207.35\n",
       "11   123      8.20  315.28\n",
       "12   142     12.40  143.38\n",
       "13    97      7.40  197.69\n",
       "14    75      5.55  187.10\n",
       "15    89      6.30  223.34\n",
       "16   159      9.40  475.41\n",
       "17   100      2.50  572.33\n",
       "18   102      6.40  307.86\n",
       "19   111      5.32  442.84\n",
       "20   134      8.40  379.00\n",
       "21    76      2.78  390.50\n",
       "22    88      3.44  427.71\n",
       "23    89      3.42  433.91\n",
       "24    68      2.69  347.00\n",
       "25    65      0.80  459.21\n",
       "26   132      8.80  336.58\n",
       "27   144     12.40  152.88\n",
       "28   116      6.70  380.40\n",
       "29   108      3.86  528.32\n",
       "30    62      4.20  197.15\n",
       "31    99      7.30  218.72\n",
       "32   118      5.40  488.31\n",
       "33    61      3.33  249.40\n",
       "34   150      7.50  552.10\n",
       "35   132      6.42  504.95\n",
       "36   122      9.38  227.08\n",
       "37    75      4.53  257.01\n",
       "38    71      3.77  289.04\n",
       "39    86      6.72  172.67\n",
       "40    77      4.63  267.27\n",
       "41    93      4.55  377.08\n",
       "42    91      3.70  429.14\n",
       "43    68      4.32  224.96\n",
       "44   108      8.51  195.56\n",
       "45   112     10.40   81.69\n",
       "46   121      3.54  643.25\n",
       "47   107      2.78  599.77\n",
       "48   143      1.64  929.37\n",
       "49    61      0.80  432.63"
      ]
     },
     "execution_count": 10,
     "metadata": {},
     "output_type": "execute_result"
    }
   ],
   "source": [
    "trainData = pd.read_csv('dataForTraining.txt', sep=' ', header=None)\n",
    "trainData.columns = ['size', 'distance', 'price']\n",
    "trainData"
   ]
  },
  {
   "cell_type": "code",
   "execution_count": 19,
   "metadata": {},
   "outputs": [
    {
     "data": {
      "text/plain": [
       "array([101, 120, 115, 123,  98, 111,  85,  76,  78,  92,  84, 142,  97,\n",
       "        75,  89, 159, 100, 102, 134,  88,  68,  65, 132, 144, 116, 108,\n",
       "        62,  99, 118,  61, 150, 122,  71,  86,  77,  93,  91, 112, 121,\n",
       "       107, 143], dtype=int64)"
      ]
     },
     "execution_count": 19,
     "metadata": {},
     "output_type": "execute_result"
    }
   ],
   "source": [
    "classes = trainData['size'].unique()\n",
    "classes"
   ]
  },
  {
   "cell_type": "code",
   "execution_count": 37,
   "metadata": {},
   "outputs": [
    {
     "data": {
      "text/plain": [
       "108"
      ]
     },
     "execution_count": 37,
     "metadata": {},
     "output_type": "execute_result"
    }
   ],
   "source": [
    "pos_class = np.random.choice(classes)\n",
    "pos_class"
   ]
  },
  {
   "cell_type": "code",
   "execution_count": 44,
   "metadata": {},
   "outputs": [
    {
     "data": {
      "text/plain": [
       "3.86"
      ]
     },
     "execution_count": 44,
     "metadata": {},
     "output_type": "execute_result"
    }
   ],
   "source": [
    "trainData.loc[trainData['size']==pos_class, 'distance'].values[0]"
   ]
  },
  {
   "cell_type": "code",
   "execution_count": 52,
   "metadata": {},
   "outputs": [
    {
     "data": {
      "text/plain": [
       "array([0, 1])"
      ]
     },
     "execution_count": 52,
     "metadata": {},
     "output_type": "execute_result"
    }
   ],
   "source": [
    "np.random.choice(2, size = 2, replace = False)"
   ]
  },
  {
   "cell_type": "code",
   "execution_count": 3,
   "metadata": {},
   "outputs": [
    {
     "data": {
      "text/html": [
       "<div>\n",
       "<style scoped>\n",
       "    .dataframe tbody tr th:only-of-type {\n",
       "        vertical-align: middle;\n",
       "    }\n",
       "\n",
       "    .dataframe tbody tr th {\n",
       "        vertical-align: top;\n",
       "    }\n",
       "\n",
       "    .dataframe thead th {\n",
       "        text-align: right;\n",
       "    }\n",
       "</style>\n",
       "<table border=\"1\" class=\"dataframe\">\n",
       "  <thead>\n",
       "    <tr style=\"text-align: right;\">\n",
       "      <th></th>\n",
       "      <th>size</th>\n",
       "      <th>distance</th>\n",
       "      <th>price</th>\n",
       "    </tr>\n",
       "  </thead>\n",
       "  <tbody>\n",
       "    <tr>\n",
       "      <th>0</th>\n",
       "      <td>93</td>\n",
       "      <td>0.78</td>\n",
       "      <td>637.07</td>\n",
       "    </tr>\n",
       "    <tr>\n",
       "      <th>1</th>\n",
       "      <td>104</td>\n",
       "      <td>3.82</td>\n",
       "      <td>494.08</td>\n",
       "    </tr>\n",
       "    <tr>\n",
       "      <th>2</th>\n",
       "      <td>110</td>\n",
       "      <td>4.27</td>\n",
       "      <td>502.26</td>\n",
       "    </tr>\n",
       "    <tr>\n",
       "      <th>3</th>\n",
       "      <td>69</td>\n",
       "      <td>5.20</td>\n",
       "      <td>166.46</td>\n",
       "    </tr>\n",
       "    <tr>\n",
       "      <th>4</th>\n",
       "      <td>80</td>\n",
       "      <td>1.22</td>\n",
       "      <td>521.05</td>\n",
       "    </tr>\n",
       "    <tr>\n",
       "      <th>5</th>\n",
       "      <td>79</td>\n",
       "      <td>0.87</td>\n",
       "      <td>539.17</td>\n",
       "    </tr>\n",
       "    <tr>\n",
       "      <th>6</th>\n",
       "      <td>128</td>\n",
       "      <td>5.54</td>\n",
       "      <td>530.48</td>\n",
       "    </tr>\n",
       "    <tr>\n",
       "      <th>7</th>\n",
       "      <td>107</td>\n",
       "      <td>4.51</td>\n",
       "      <td>465.21</td>\n",
       "    </tr>\n",
       "    <tr>\n",
       "      <th>8</th>\n",
       "      <td>75</td>\n",
       "      <td>3.20</td>\n",
       "      <td>347.30</td>\n",
       "    </tr>\n",
       "    <tr>\n",
       "      <th>9</th>\n",
       "      <td>96</td>\n",
       "      <td>1.55</td>\n",
       "      <td>602.54</td>\n",
       "    </tr>\n",
       "  </tbody>\n",
       "</table>\n",
       "</div>"
      ],
      "text/plain": [
       "   size  distance   price\n",
       "0    93      0.78  637.07\n",
       "1   104      3.82  494.08\n",
       "2   110      4.27  502.26\n",
       "3    69      5.20  166.46\n",
       "4    80      1.22  521.05\n",
       "5    79      0.87  539.17\n",
       "6   128      5.54  530.48\n",
       "7   107      4.51  465.21\n",
       "8    75      3.20  347.30\n",
       "9    96      1.55  602.54"
      ]
     },
     "execution_count": 3,
     "metadata": {},
     "output_type": "execute_result"
    }
   ],
   "source": [
    "testData = pd.read_csv('dataForTesting.txt', sep=' ', header=None)\n",
    "testData.columns = ['size', 'distance', 'price']\n",
    "testData"
   ]
  },
  {
   "cell_type": "markdown",
   "metadata": {},
   "source": [
    "## Ex1"
   ]
  },
  {
   "cell_type": "markdown",
   "metadata": {},
   "source": [
    "1.分析\n",
    "\n",
    "这是一个二元线性回归问题，假设完美模型为 $f(x)$，则有\n",
    "\n",
    "$$\n",
    "y=f(x)+\\epsilon\n",
    "$$\n",
    "\n",
    "其中 $\\epsilon$ 由于噪声引起，是不可避免的，而线性回归的目的则是找找到 $y$。\n",
    "\n",
    "对于单个数据点：\n",
    "\n",
    "$$\n",
    "y=\\theta_{size}x_{size}+\\theta_{dis}x_{dis}+\\theta_{b}\n",
    "=\\begin{bmatrix}x_{size}&x_{dis}&1\\end{bmatrix}\\cdot\\begin{bmatrix}\\theta_{size}\\\\\\theta_{dis}\\\\\\theta_{b}\\end{bmatrix}\n",
    "$$\n",
    "\n",
    "对于多个数据点（数据集）：\n",
    "\n",
    "$$\n",
    "Y = X\\theta\n",
    "= \\begin{bmatrix}x_{size0}&x_{dis0}&1\\\\x_{size1}&x_{dis1}&1\\\\...&...&1\\\\x_{size49}&x_{dis49}&1\\end{bmatrix}\\begin{bmatrix}\\theta_{size}\\\\\\theta_{dis}\\\\\\theta_{b}\\end{bmatrix}\n",
    "$$\n",
    "\n",
    "显然我们需要 3 个参数，分别是 $\\theta_{size}$，$\\theta_{dis}$ 和 $\\theta_{b}$。"
   ]
  },
  {
   "cell_type": "markdown",
   "metadata": {},
   "source": [
    "2.准备数据"
   ]
  },
  {
   "cell_type": "code",
   "execution_count": 4,
   "metadata": {},
   "outputs": [
    {
     "name": "stdout",
     "output_type": "stream",
     "text": [
      "(50, 3)\n",
      "(50, 1)\n"
     ]
    }
   ],
   "source": [
    "# get size and dis cols\n",
    "train_X = np.array(trainData.iloc[:, 0:2])\n",
    "# the '1' col\n",
    "one_col = np.ones(len(trainData))\n",
    "train_X = np.c_[train_X, one_col]\n",
    "print(train_X.shape)\n",
    "# get price cols\n",
    "train_Y = np.array(trainData.iloc[:, 2]).reshape(-1, 1)\n",
    "print(train_Y.shape)"
   ]
  },
  {
   "cell_type": "code",
   "execution_count": 5,
   "metadata": {},
   "outputs": [
    {
     "name": "stdout",
     "output_type": "stream",
     "text": [
      "(10, 3)\n",
      "(10, 1)\n"
     ]
    }
   ],
   "source": [
    "# get size and dis cols\n",
    "test_X = np.array(testData.iloc[:, 0:2])\n",
    "# the '1' col\n",
    "one_col = np.ones(len(testData))\n",
    "test_X = np.c_[test_X, one_col]\n",
    "print(test_X.shape)\n",
    "# get price cols\n",
    "test_Y = np.array(testData.iloc[:, 2]).reshape(-1, 1)\n",
    "print(test_Y.shape)"
   ]
  },
  {
   "cell_type": "code",
   "execution_count": 6,
   "metadata": {},
   "outputs": [
    {
     "data": {
      "text/plain": [
       "array([[0.],\n",
       "       [0.],\n",
       "       [0.]])"
      ]
     },
     "execution_count": 6,
     "metadata": {},
     "output_type": "execute_result"
    }
   ],
   "source": [
    "# thetas: 0 -> theta_size, 1 -> theta_dis, 2 -> theta_b\n",
    "thetas = np.zeros([3, 1])\n",
    "thetas"
   ]
  },
  {
   "cell_type": "markdown",
   "metadata": {},
   "source": [
    "3.误差计算<br/>\n",
    "直接使用线性回归的损失函数来计算误差，也即均方误差（MSE）：\n",
    "\n",
    "$$\n",
    "J(\\theta)=\\frac{1}{2m}\\sum^{m}_{i=1}(h_{\\theta}(x^{(i)})-y^{(i)})^2\n",
    "$$"
   ]
  },
  {
   "cell_type": "code",
   "execution_count": 7,
   "metadata": {},
   "outputs": [],
   "source": [
    "def my_MSE(predict, real):\n",
    "    ret = (predict - real)**2\n",
    "    return ret.sum()/(2*len(ret))"
   ]
  },
  {
   "cell_type": "markdown",
   "metadata": {},
   "source": [
    "4.训练"
   ]
  },
  {
   "cell_type": "code",
   "execution_count": 8,
   "metadata": {},
   "outputs": [
    {
     "name": "stdout",
     "output_type": "stream",
     "text": [
      "Epoch:100000/1500000.\ttrain mse:33.50439763530972,\ttest mse:62.231649294656776\n",
      "Epoch:200000/1500000.\ttrain mse:7.529741700253068,\ttest mse:59.7276458396198\n",
      "Epoch:300000/1500000.\ttrain mse:2.9080670041460843,\ttest mse:62.93605944919011\n",
      "Epoch:400000/1500000.\ttrain mse:2.085731684285176,\ttest mse:65.04823429940518\n",
      "Epoch:500000/1500000.\ttrain mse:1.9394134289436207,\ttest mse:66.07420205819326\n",
      "Epoch:600000/1500000.\ttrain mse:1.9133789983055067,\ttest mse:66.53099665392111\n",
      "Epoch:700000/1500000.\ttrain mse:1.908746687886865,\ttest mse:66.72795515400352\n",
      "Epoch:800000/1500000.\ttrain mse:1.907922460151193,\ttest mse:66.81179628825213\n",
      "Epoch:900000/1500000.\ttrain mse:1.907775805178013,\ttest mse:66.84729728726312\n",
      "Epoch:1000000/1500000.\ttrain mse:1.907749710835131,\ttest mse:66.86229631505803\n",
      "Epoch:1100000/1500000.\ttrain mse:1.907745067864511,\ttest mse:66.86862745455558\n",
      "Epoch:1200000/1500000.\ttrain mse:1.9077442417400179,\ttest mse:66.87129880347348\n",
      "Epoch:1300000/1500000.\ttrain mse:1.907744094747531,\ttest mse:66.8724257613311\n",
      "Epoch:1400000/1500000.\ttrain mse:1.9077440685931586,\ttest mse:66.87290115621902\n",
      "Epoch:1500000/1500000.\ttrain mse:1.9077440639394792,\ttest mse:66.87310169049039\n"
     ]
    }
   ],
   "source": [
    "def my_GD(lr, num_epochs, stride, train_X, train_Y, test_X, test_Y):\n",
    "    # reset thetas when begin to train\n",
    "    thetas = np.zeros([3, 1])\n",
    "    xs = range(1, num_epochs//stride+1)\n",
    "    train_ys = []\n",
    "    test_ys = []\n",
    "\n",
    "    for i in range(num_epochs):\n",
    "        train_predict = np.matmul(train_X, thetas)\n",
    "        lhs = train_Y - train_predict\n",
    "        grad = np.multiply(lhs, train_X)\n",
    "        thetas += lr * (grad.sum(axis=0).reshape(-1, 1)/len(grad))\n",
    "        if (i + 1) % stride == 0:\n",
    "            train_mse = my_MSE(train_predict, train_Y)\n",
    "            train_ys.append(train_mse)\n",
    "\n",
    "            test_predict = np.matmul(test_X, thetas)\n",
    "            test_mse = my_MSE(test_predict, test_Y)\n",
    "            test_ys.append(test_mse)\n",
    "\n",
    "            print('Epoch:{}/{}.\\ttrain mse:{},\\ttest mse:{}'.format(i+1, num_epochs, train_mse, test_mse))\n",
    "    return xs, train_ys, test_ys\n",
    "\n",
    "# hyper-parameter\n",
    "lr = 15e-5\n",
    "# iter times\n",
    "num_epochs = 1500000\n",
    "stride = 100000\n",
    "xs, train_ys, test_ys = my_GD(lr, num_epochs, stride, train_X, train_Y, test_X, test_Y)"
   ]
  },
  {
   "cell_type": "code",
   "execution_count": 9,
   "metadata": {},
   "outputs": [
    {
     "data": {
      "image/png": "[encoded data removed]",
      "text/plain": [
       "<Figure size 432x288 with 1 Axes>"
      ]
     },
     "metadata": {
      "needs_background": "light"
     },
     "output_type": "display_data"
    }
   ],
   "source": [
    "l1, = plt.plot(xs, train_ys, 'bo-')\n",
    "l2, = plt.plot(xs, test_ys, 'r*-')\n",
    "plt.grid()\n",
    "plt.axis()\n",
    "plt.ylabel('mse')\n",
    "plt.xlabel('iterations (x100000)')\n",
    "plt.title('train mse and test mse with iterations')\n",
    "plt.legend(handles=[l1, l2], labels=['train mse', 'test mse'], loc='best')\n",
    "plt.show()"
   ]
  },
  {
   "cell_type": "markdown",
   "metadata": {},
   "source": [
    "## Ex2"
   ]
  },
  {
   "cell_type": "markdown",
   "metadata": {},
   "source": [
    "1.修改学习率，迭代次数并重新训练回归模型"
   ]
  },
  {
   "cell_type": "code",
   "execution_count": 10,
   "metadata": {
    "scrolled": false
   },
   "outputs": [
    {
     "name": "stdout",
     "output_type": "stream",
     "text": [
      "Epoch:1000/15000.\ttrain mse:8.307924157258049e+147,\ttest mse:9.724652226486053e+147\n",
      "Epoch:2000/15000.\ttrain mse:1.1811415045179194e+291,\ttest mse:1.3825584037945984e+291\n",
      "Epoch:3000/15000.\ttrain mse:inf,\ttest mse:inf\n",
      "Epoch:4000/15000.\ttrain mse:inf,\ttest mse:inf\n",
      "Epoch:5000/15000.\ttrain mse:nan,\ttest mse:nan\n",
      "Epoch:6000/15000.\ttrain mse:nan,\ttest mse:nan\n",
      "Epoch:7000/15000.\ttrain mse:nan,\ttest mse:nan\n",
      "Epoch:8000/15000.\ttrain mse:nan,\ttest mse:nan\n",
      "Epoch:9000/15000.\ttrain mse:nan,\ttest mse:nan\n",
      "Epoch:10000/15000.\ttrain mse:nan,\ttest mse:nan\n",
      "Epoch:11000/15000.\ttrain mse:nan,\ttest mse:nan\n"
     ]
    },
    {
     "name": "stderr",
     "output_type": "stream",
     "text": [
      "D:\\Anaconda3\\lib\\site-packages\\ipykernel_launcher.py:2: RuntimeWarning: overflow encountered in square\n",
      "  \n",
      "D:\\Anaconda3\\lib\\site-packages\\numpy\\core\\_methods.py:36: RuntimeWarning: overflow encountered in reduce\n",
      "  return umr_sum(a, axis, dtype, out, keepdims, initial)\n",
      "D:\\Anaconda3\\lib\\site-packages\\ipykernel_launcher.py:9: RuntimeWarning: invalid value encountered in matmul\n",
      "  if __name__ == '__main__':\n",
      "D:\\Anaconda3\\lib\\site-packages\\ipykernel_launcher.py:12: RuntimeWarning: invalid value encountered in add\n",
      "  if sys.path[0] == '':\n"
     ]
    },
    {
     "name": "stdout",
     "output_type": "stream",
     "text": [
      "Epoch:12000/15000.\ttrain mse:nan,\ttest mse:nan\n",
      "Epoch:13000/15000.\ttrain mse:nan,\ttest mse:nan\n",
      "Epoch:14000/15000.\ttrain mse:nan,\ttest mse:nan\n",
      "Epoch:15000/15000.\ttrain mse:nan,\ttest mse:nan\n"
     ]
    }
   ],
   "source": [
    "# hyper-parameter\n",
    "lr = 2e-4\n",
    "# iter times\n",
    "num_epochs = 15000\n",
    "stride = 1000\n",
    "xs, train_ys, test_ys = my_GD(lr, num_epochs, stride, train_X, train_Y, test_X, test_Y)"
   ]
  },
  {
   "cell_type": "markdown",
   "metadata": {},
   "source": [
    "将学习率从 `15e-5` 上调到 `2e-4` 之后，发现 train mse 和 test mse 都为 nan\n",
    "\n",
    "可以发现，nan 出现的原因是因为 overflow（报错提示）。\n",
    "\n",
    "一般来说，这种情况的出现有比较多种的原因：\n",
    "* 损失函数计算处有问题（比如损失函数中使用 log 且传入了 0，log0 产生 nan）\n",
    "* 脏数据，有不当的输入（比如输入中就有 nan）\n",
    "* 梯度爆炸\n",
    "\n",
    "在学习率较小的时候训练能够正常进行，说明不存在脏数据；我们使用的损失函数是均方误差，不包含 log，说明不是损失函数的问题。\n",
    "\n",
    "学习率如果过高，容易导致梯度爆炸。我们刚刚调高了学习率，这个问题应该就是这样产生的。\n",
    "\n",
    "所以如果要解决这个问题，有如下方法：\n",
    "* 减小学习率\n",
    "* 数据归一化/标准化\n",
    "\n",
    "这里我们尝试使用 Z-score 标准化方法对数据进行标准化"
   ]
  },
  {
   "cell_type": "markdown",
   "metadata": {},
   "source": [
    "2.使用 zero-mean normalization 进行数据标准化"
   ]
  },
  {
   "cell_type": "code",
   "execution_count": 11,
   "metadata": {},
   "outputs": [],
   "source": [
    "def my_Norm(data):\n",
    "    mean_data = np.mean(data, axis=0)\n",
    "    var_data = np.var(data, axis=0)\n",
    "    return (data-mean_data)/np.sqrt(var_data)"
   ]
  },
  {
   "cell_type": "code",
   "execution_count": 12,
   "metadata": {
    "scrolled": true
   },
   "outputs": [
    {
     "name": "stdout",
     "output_type": "stream",
     "text": [
      "(50, 3)\n",
      "(50, 1)\n"
     ]
    }
   ],
   "source": [
    "# get size and dis cols\n",
    "train_X = np.array(trainData.iloc[:, 0:2])\n",
    "norm_train_X = my_Norm(train_X)\n",
    "# the '1' col\n",
    "one_col = np.ones(len(trainData))\n",
    "norm_train_X = np.c_[norm_train_X, one_col]\n",
    "train_X = np.c_[train_X, one_col]\n",
    "print(norm_train_X.shape)\n",
    "# get price cols\n",
    "train_Y = np.array(trainData.iloc[:, 2]).reshape(-1, 1)\n",
    "norm_train_Y = my_Norm(train_Y)\n",
    "print(norm_train_Y.shape)"
   ]
  },
  {
   "cell_type": "code",
   "execution_count": 13,
   "metadata": {},
   "outputs": [
    {
     "name": "stdout",
     "output_type": "stream",
     "text": [
      "(10, 3)\n",
      "(10, 1)\n"
     ]
    }
   ],
   "source": [
    "# get size and dis cols\n",
    "test_X = np.array(testData.iloc[:, 0:2])\n",
    "norm_test_X = my_Norm(test_X)\n",
    "# the '1' col\n",
    "one_col = np.ones(len(testData))\n",
    "norm_test_X = np.c_[norm_test_X, one_col]\n",
    "test_X = np.c_[test_X, one_col]\n",
    "print(norm_test_X.shape)\n",
    "# get price cols\n",
    "test_Y = np.array(testData.iloc[:, 2]).reshape(-1, 1)\n",
    "norm_test_Y = my_Norm(test_Y)\n",
    "print(norm_test_Y.shape)"
   ]
  },
  {
   "cell_type": "markdown",
   "metadata": {},
   "source": [
    "修改迭代次数为 `100000` 次"
   ]
  },
  {
   "cell_type": "code",
   "execution_count": 14,
   "metadata": {},
   "outputs": [
    {
     "name": "stdout",
     "output_type": "stream",
     "text": [
      "Epoch:5000/100000.\ttrain mse:0.18913994544190374,\ttest mse:0.17972042049399628\n",
      "Epoch:10000/100000.\ttrain mse:0.073610764218778,\ttest mse:0.06485220582346042\n",
      "Epoch:15000/100000.\ttrain mse:0.028767962690841125,\ttest mse:0.02451277840426512\n",
      "Epoch:20000/100000.\ttrain mse:0.01126750913985075,\ttest mse:0.011722778027943094\n",
      "Epoch:25000/100000.\ttrain mse:0.004433277885195497,\ttest mse:0.008635675062683252\n",
      "Epoch:30000/100000.\ttrain mse:0.0017641823876721075,\ttest mse:0.008635594341126393\n",
      "Epoch:35000/100000.\ttrain mse:0.0007217626039847851,\ttest mse:0.00939189556853257\n",
      "Epoch:40000/100000.\ttrain mse:0.00031464332533016247,\ttest mse:0.010160566502487612\n",
      "Epoch:45000/100000.\ttrain mse:0.00015564199771767005,\ttest mse:0.010756691883301382\n",
      "Epoch:50000/100000.\ttrain mse:9.354367931409697e-05,\ttest mse:0.011174471914282603\n",
      "Epoch:55000/100000.\ttrain mse:6.929104435820779e-05,\ttest mse:0.011453233691939697\n",
      "Epoch:60000/100000.\ttrain mse:5.9819124384169784e-05,\ttest mse:0.011634347417031222\n",
      "Epoch:65000/100000.\ttrain mse:5.611984518583235e-05,\ttest mse:0.0117502295614396\n",
      "Epoch:70000/100000.\ttrain mse:5.467508355093313e-05,\ttest mse:0.011823702386448313\n",
      "Epoch:75000/100000.\ttrain mse:5.4110828713776904e-05,\ttest mse:0.01187002997983389\n",
      "Epoch:80000/100000.\ttrain mse:5.389045774491354e-05,\ttest mse:0.011899142686917424\n",
      "Epoch:85000/100000.\ttrain mse:5.380439137787618e-05,\ttest mse:0.011917399179822692\n",
      "Epoch:90000/100000.\ttrain mse:5.377077796875309e-05,\ttest mse:0.011928832930548205\n",
      "Epoch:95000/100000.\ttrain mse:5.375765017781982e-05,\ttest mse:0.011935987929713815\n",
      "Epoch:100000/100000.\ttrain mse:5.375252309016995e-05,\ttest mse:0.011940463125409587\n"
     ]
    }
   ],
   "source": [
    "# hyper-parameter\n",
    "lr = 2e-4\n",
    "# iter times\n",
    "num_epochs = 100000\n",
    "stride = 5000\n",
    "xs, train_ys, test_ys = my_GD(lr, num_epochs, stride, norm_train_X, norm_train_Y, norm_test_X, norm_test_Y)"
   ]
  },
  {
   "cell_type": "code",
   "execution_count": 15,
   "metadata": {},
   "outputs": [
    {
     "data": {
      "image/png": "[encoded data removed]",
      "text/plain": [
       "<Figure size 432x288 with 1 Axes>"
      ]
     },
     "metadata": {
      "needs_background": "light"
     },
     "output_type": "display_data"
    }
   ],
   "source": [
    "l1, = plt.plot(xs, train_ys, 'bo-')\n",
    "l2, = plt.plot(xs, test_ys, 'r*-')\n",
    "plt.grid()\n",
    "plt.axis()\n",
    "plt.ylabel('mse')\n",
    "plt.xlabel('iterations (x5000)')\n",
    "plt.title('train mse and test mse with iterations')\n",
    "plt.legend(handles=[l1, l2], labels=['train mse', 'test mse'], loc='best')\n",
    "plt.show()"
   ]
  },
  {
   "cell_type": "markdown",
   "metadata": {},
   "source": [
    "3.使用 `15e-5` 的学习率，`100000` 的迭代次数以及标准化后的数据重新训练回归模型\n",
    "\n",
    "这一步主要是方便和 `2e-4` 学习率的训练结果进行比对，之前的训练并未对数据进行标准化。"
   ]
  },
  {
   "cell_type": "code",
   "execution_count": 16,
   "metadata": {},
   "outputs": [
    {
     "name": "stdout",
     "output_type": "stream",
     "text": [
      "Epoch:5000/100000.\ttrain mse:0.23998148092270807,\ttest mse:0.23176420877106446\n",
      "Epoch:10000/100000.\ttrain mse:0.11787218025294996,\ttest mse:0.10794102028234372\n",
      "Epoch:15000/100000.\ttrain mse:0.058188772119662016,\ttest mse:0.050398767853211304\n",
      "Epoch:20000/100000.\ttrain mse:0.028767565046916865,\ttest mse:0.024513526832623974\n",
      "Epoch:25000/100000.\ttrain mse:0.01423881722863849,\ttest mse:0.013587935142378651\n",
      "Epoch:30000/100000.\ttrain mse:0.007061679469007901,\ttest mse:0.009531371288170427\n",
      "Epoch:35000/100000.\ttrain mse:0.0035159460687108424,\ttest mse:0.008480807807795213\n",
      "Epoch:40000/100000.\ttrain mse:0.0017642153772254251,\ttest mse:0.00863555263765054\n",
      "Epoch:45000/100000.\ttrain mse:0.0008987894176956443,\ttest mse:0.009186711039092126\n",
      "Epoch:50000/100000.\ttrain mse:0.00047123365316749496,\ttest mse:0.009793028713283742\n",
      "Epoch:55000/100000.\ttrain mse:0.00026000361916662094,\ttest mse:0.010327466886193497\n",
      "Epoch:60000/100000.\ttrain mse:0.0001556473407245838,\ttest mse:0.010756638792471634\n",
      "Epoch:65000/100000.\ttrain mse:0.00010409106957728265,\ttest mse:0.011084750768128024\n",
      "Epoch:70000/100000.\ttrain mse:7.862016224757863e-05,\ttest mse:0.011328447982388764\n",
      "Epoch:75000/100000.\ttrain mse:6.603649190251758e-05,\ttest mse:0.01150619810283498\n",
      "Epoch:80000/100000.\ttrain mse:5.981964389978532e-05,\ttest mse:0.011634327115328611\n",
      "Epoch:85000/100000.\ttrain mse:5.6748266628319656e-05,\ttest mse:0.011725963552784662\n",
      "Epoch:90000/100000.\ttrain mse:5.523088059290761e-05,\ttest mse:0.011791152181945732\n",
      "Epoch:95000/100000.\ttrain mse:5.448122980859098e-05,\ttest mse:0.011837356947793467\n",
      "Epoch:100000/100000.\ttrain mse:5.411087164968344e-05,\ttest mse:0.01187002356047386\n"
     ]
    }
   ],
   "source": [
    "# hyper-parameter\n",
    "lr = 15e-5\n",
    "# iter times\n",
    "num_epochs = 100000\n",
    "stride = 5000\n",
    "xs, train_ys, test_ys = my_GD(lr, num_epochs, stride, norm_train_X, norm_train_Y, norm_test_X, norm_test_Y)"
   ]
  },
  {
   "cell_type": "code",
   "execution_count": 17,
   "metadata": {},
   "outputs": [
    {
     "data": {
      "image/png": "[encoded data removed]",
      "text/plain": [
       "<Figure size 432x288 with 1 Axes>"
      ]
     },
     "metadata": {
      "needs_background": "light"
     },
     "output_type": "display_data"
    }
   ],
   "source": [
    "l1, = plt.plot(xs, train_ys, 'bo-')\n",
    "l2, = plt.plot(xs, test_ys, 'r*-')\n",
    "plt.grid()\n",
    "plt.axis()\n",
    "plt.ylabel('mse')\n",
    "plt.xlabel('iterations (x5000)')\n",
    "plt.title('train mse and test mse with iterations')\n",
    "plt.legend(handles=[l1, l2], labels=['train mse', 'test mse'], loc='best')\n",
    "plt.show()"
   ]
  },
  {
   "cell_type": "markdown",
   "metadata": {},
   "source": [
    "4.总结\n",
    "\n",
    "对数据进行标准化后进行训练，比对学习率为 `2e-4` 和 `15e-5` 的训练结果。\n",
    "\n",
    "容易发现当学习率为 `2e-4` 时，训练集在第 60000 次迭代时，误差基本已经收敛不再变动；而当学习率为 `15e-5` 时，训练集在第 80000 次迭代，误差基本已经收敛不再变动。学习率较大的情况下，误差收敛速度更快。\n",
    "\n",
    "注意，两次训练中都出现了一定程度的过拟合现象：训练集上的误差不断减小，但测试集的误差开始下降后面略有回升。"
   ]
  },
  {
   "cell_type": "markdown",
   "metadata": {},
   "source": [
    "## Ex3"
   ]
  },
  {
   "cell_type": "markdown",
   "metadata": {},
   "source": [
    "1.采用随机梯度下降法进行梯度下降"
   ]
  },
  {
   "cell_type": "code",
   "execution_count": 18,
   "metadata": {},
   "outputs": [
    {
     "name": "stdout",
     "output_type": "stream",
     "text": [
      "Epoch:5000/100000.\ttrain mse:0.23893586824383045,\ttest mse:0.23150274570825619\n",
      "Epoch:10000/100000.\ttrain mse:0.11791384420351765,\ttest mse:0.1086213416051485\n",
      "Epoch:15000/100000.\ttrain mse:0.05838045768651989,\ttest mse:0.050981361640174916\n",
      "Epoch:20000/100000.\ttrain mse:0.029299345043102772,\ttest mse:0.025059803662543994\n",
      "Epoch:25000/100000.\ttrain mse:0.014682293528985101,\ttest mse:0.013803208412366746\n",
      "Epoch:30000/100000.\ttrain mse:0.007346705909675436,\ttest mse:0.009676438300955102\n",
      "Epoch:35000/100000.\ttrain mse:0.0036730145990286024,\ttest mse:0.008567126547686172\n",
      "Epoch:40000/100000.\ttrain mse:0.00186149173437137,\ttest mse:0.008734154565300445\n",
      "Epoch:45000/100000.\ttrain mse:0.0009490315758425359,\ttest mse:0.009200868580504482\n",
      "Epoch:50000/100000.\ttrain mse:0.0005009017425993852,\ttest mse:0.009718596626629456\n",
      "Epoch:55000/100000.\ttrain mse:0.0002745432302383206,\ttest mse:0.010301037578323962\n",
      "Epoch:60000/100000.\ttrain mse:0.00016081777032395605,\ttest mse:0.01079026995538307\n",
      "Epoch:65000/100000.\ttrain mse:0.00010633571320339931,\ttest mse:0.011096776431090291\n",
      "Epoch:70000/100000.\ttrain mse:8.071504938819188e-05,\ttest mse:0.011316399876434955\n",
      "Epoch:75000/100000.\ttrain mse:6.713919828030238e-05,\ttest mse:0.011485747438943629\n",
      "Epoch:80000/100000.\ttrain mse:6.012969018162348e-05,\ttest mse:0.011615134604373585\n",
      "Epoch:85000/100000.\ttrain mse:5.6974897123177666e-05,\ttest mse:0.011733456007305737\n",
      "Epoch:90000/100000.\ttrain mse:5.5257857380420305e-05,\ttest mse:0.01179345551451787\n",
      "Epoch:95000/100000.\ttrain mse:5.453808705668043e-05,\ttest mse:0.01183374939269741\n",
      "Epoch:100000/100000.\ttrain mse:5.409403925515686e-05,\ttest mse:0.011863731972029796\n"
     ]
    }
   ],
   "source": [
    "def my_SGD(lr, num_epochs, stride, train_X, train_Y, test_X, test_Y):\n",
    "    # reset thetas when begin to train\n",
    "    thetas = np.zeros([3, 1])\n",
    "    xs = range(1, num_epochs//stride+1)\n",
    "    train_ys = []\n",
    "    test_ys = []\n",
    "\n",
    "    for i in range(num_epochs):\n",
    "\n",
    "        random_i = np.random.randint(0,50)\n",
    "        random_x =  train_X[random_i] \n",
    "        random_predict = np.matmul(random_x, thetas)\n",
    "        lhs = train_Y[random_i] - random_predict\n",
    "        grad = np.multiply(lhs, random_x)\n",
    "        thetas += lr * grad.reshape(-1, 1)\n",
    "        if (i + 1) % stride == 0:\n",
    "            train_predict = np.matmul(train_X, thetas)\n",
    "            train_mse = my_MSE(train_predict, train_Y)\n",
    "            train_ys.append(train_mse)\n",
    "\n",
    "            test_predict = np.matmul(test_X, thetas)\n",
    "            test_mse = my_MSE(test_predict, test_Y)\n",
    "            test_ys.append(test_mse)\n",
    "\n",
    "            print('Epoch:{}/{}.\\ttrain mse:{},\\ttest mse:{}'.format(i+1, num_epochs, train_mse, test_mse))\n",
    "    return xs, train_ys, test_ys\n",
    "\n",
    "lr = 15e-5\n",
    "num_epochs = 100000\n",
    "stride = 5000\n",
    "xs, train_ys, test_ys = my_SGD(lr, num_epochs, stride, norm_train_X, norm_train_Y, norm_test_X, norm_test_Y)"
   ]
  },
  {
   "cell_type": "code",
   "execution_count": 19,
   "metadata": {},
   "outputs": [
    {
     "data": {
      "image/png": "[encoded data removed]",
      "text/plain": [
       "<Figure size 432x288 with 1 Axes>"
      ]
     },
     "metadata": {
      "needs_background": "light"
     },
     "output_type": "display_data"
    }
   ],
   "source": [
    "l1, = plt.plot(xs, train_ys, 'bo-')\n",
    "l2, = plt.plot(xs, test_ys, 'r*-')\n",
    "plt.grid()\n",
    "plt.axis()\n",
    "plt.ylabel('mse')\n",
    "plt.xlabel('iterations (x5000)')\n",
    "plt.title('train mse and test mse with iterations')\n",
    "plt.legend(handles=[l1, l2], labels=['train mse', 'test mse'], loc='best')\n",
    "plt.show()"
   ]
  },
  {
   "cell_type": "markdown",
   "metadata": {},
   "source": [
    "在 `my_SGD` 的实现中，对于一次迭代，我仅仅将其理解为一次迭代，而非一次 epoch。因此对于本实验，在一个迭代里仅下降 1 次，而不是 50 次。\n",
    "\n",
    "由输出数据和图表可知，随机梯度下降和梯度下降在训练结果上表现差不多，都是在第 80000 次迭代，误差基本收敛不再变动。\n",
    "\n",
    "我认为这是因为数据标准化的原因，因为老师提供的数据集实际上是比较分散的，如果下降次数相同，那么梯度下降的方法显然是应该要比随机梯度下降要更加准确表现更好的。\n",
    "\n",
    "于是，使用未标准化数据采用随机梯度下降进行训练。\n"
   ]
  },
  {
   "cell_type": "markdown",
   "metadata": {},
   "source": [
    "2.使用未标准化数据采用随机梯度下降进行训练\n",
    "\n",
    "为能够与梯度下降产生训练结果的比对，将 num_epochs 重新设置为 `1500000`"
   ]
  },
  {
   "cell_type": "code",
   "execution_count": 20,
   "metadata": {},
   "outputs": [
    {
     "name": "stdout",
     "output_type": "stream",
     "text": [
      "Epoch:100000/1500000.\ttrain mse:327.0880076621042,\ttest mse:524.5320304502509\n",
      "Epoch:200000/1500000.\ttrain mse:20.264508564313772,\ttest mse:115.7699891242165\n",
      "Epoch:300000/1500000.\ttrain mse:90.02446886966185,\ttest mse:4.677196180592906\n",
      "Epoch:400000/1500000.\ttrain mse:2.9892183912238868,\ttest mse:50.8118642552349\n",
      "Epoch:500000/1500000.\ttrain mse:4.118674767715578,\ttest mse:49.770813540050106\n",
      "Epoch:600000/1500000.\ttrain mse:4.663767725489996,\ttest mse:92.82344772353301\n",
      "Epoch:700000/1500000.\ttrain mse:4.104582693856347,\ttest mse:48.40388813734264\n",
      "Epoch:800000/1500000.\ttrain mse:26.71442352077586,\ttest mse:163.28239641737625\n",
      "Epoch:900000/1500000.\ttrain mse:15.958358618945836,\ttest mse:135.25273861486806\n",
      "Epoch:1000000/1500000.\ttrain mse:5.5793961551313815,\ttest mse:41.66781197225557\n",
      "Epoch:1100000/1500000.\ttrain mse:1.990162675696932,\ttest mse:62.6420099231873\n",
      "Epoch:1200000/1500000.\ttrain mse:8.423736887617043,\ttest mse:110.35929927559096\n",
      "Epoch:1300000/1500000.\ttrain mse:3.356858488846596,\ttest mse:49.58289503433694\n",
      "Epoch:1400000/1500000.\ttrain mse:3.5277378751605584,\ttest mse:48.92583797709909\n",
      "Epoch:1500000/1500000.\ttrain mse:10.403761508819606,\ttest mse:32.349907497235144\n"
     ]
    }
   ],
   "source": [
    "lr = 15e-5\n",
    "num_epochs = 1500000\n",
    "stride = 100000\n",
    "xs, train_ys, test_ys = my_SGD(lr, num_epochs, stride, train_X, train_Y, test_X, test_Y)"
   ]
  },
  {
   "cell_type": "code",
   "execution_count": 21,
   "metadata": {},
   "outputs": [
    {
     "data": {
      "image/png": "[encoded data removed]",
      "text/plain": [
       "<Figure size 432x288 with 1 Axes>"
      ]
     },
     "metadata": {
      "needs_background": "light"
     },
     "output_type": "display_data"
    }
   ],
   "source": [
    "l1, = plt.plot(xs, train_ys, 'bo-')\n",
    "l2, = plt.plot(xs, test_ys, 'r*-')\n",
    "plt.grid()\n",
    "plt.axis()\n",
    "plt.ylabel('mse')\n",
    "plt.xlabel('iterations (x5000)')\n",
    "plt.title('train mse and test mse with iterations')\n",
    "plt.legend(handles=[l1, l2], labels=['train mse', 'test mse'], loc='best')\n",
    "plt.show()"
   ]
  },
  {
   "cell_type": "markdown",
   "metadata": {},
   "source": [
    "在未标准化数据上采用随机梯度下降进行训练，此时就能明显看到随机梯度下降法的振荡非常严重，到最后误差也没有收敛。不过误差没有收敛这一点感觉还是和老师提供的训练集数据太少有关，模型的泛化能力太差。\n",
    "\n",
    "数据标准化与否的训练结果的比对也充分反映了数据标准化的重要性！"
   ]
  }
 ],
 "metadata": {
  "kernelspec": {
   "display_name": "Python 3",
   "language": "python",
   "name": "python3"
  },
  "language_info": {
   "codemirror_mode": {
    "name": "ipython",
    "version": 3
   },
   "file_extension": ".py",
   "mimetype": "text/x-python",
   "name": "python",
   "nbconvert_exporter": "python",
   "pygments_lexer": "ipython3",
   "version": "3.6.8"
  },
  "toc": {
   "base_numbering": 1,
   "nav_menu": {},
   "number_sections": true,
   "sideBar": true,
   "skip_h1_title": false,
   "title_cell": "Table of Contents",
   "title_sidebar": "Contents",
   "toc_cell": false,
   "toc_position": {},
   "toc_section_display": true,
   "toc_window_display": false
  }
 },
 "nbformat": 4,
 "nbformat_minor": 2
}
