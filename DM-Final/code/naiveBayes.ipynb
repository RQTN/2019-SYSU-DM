{
 "cells": [
  {
   "cell_type": "markdown",
   "metadata": {},
   "source": [
    "# Set Up"
   ]
  },
  {
   "cell_type": "markdown",
   "metadata": {},
   "source": [
    "导入需要的模块"
   ]
  },
  {
   "cell_type": "code",
   "execution_count": 2,
   "metadata": {},
   "outputs": [],
   "source": [
    "import pandas as pd\n",
    "import matplotlib.pyplot as plt\n",
    "import numpy as np\n",
    "import nltk\n",
    "from nltk.tokenize import WordPunctTokenizer\n",
    "\n",
    "from sklearn.feature_extraction.text import CountVectorizer, TfidfTransformer\n",
    "from sklearn.naive_bayes import MultinomialNB\n",
    "from sklearn import svm\n",
    "from sklearn.metrics import accuracy_score\n",
    "from sklearn.metrics import classification_report\n",
    "from sklearn.model_selection import KFold\n",
    "\n",
    "import torch\n",
    "import torch.nn as nn\n",
    "from torch.autograd import Variable\n",
    "\n",
    "import stats"
   ]
  },
  {
   "cell_type": "markdown",
   "metadata": {},
   "source": [
    "读取训练集数据和测试集数据并定义分词器"
   ]
  },
  {
   "cell_type": "code",
   "execution_count": 3,
   "metadata": {},
   "outputs": [],
   "source": [
    "TRAIN_FILE = '../data/processed_train.csv'\n",
    "TEST_FILE = '../data/processed_test.csv'\n",
    "\n",
    "train_data = pd.read_csv(TRAIN_FILE)\n",
    "test_data = pd.read_csv(TEST_FILE)\n",
    "word_tokenizer = WordPunctTokenizer()\n",
    "\n",
    "def bigram_tokenize(text):\n",
    "    bigrams = []\n",
    "    unigrams = word_tokenizer.tokenize(text)\n",
    "    for i in range(len(unigrams) - 1):\n",
    "        bigrams.append('-'.join([unigrams[i], unigrams[i+1]]))\n",
    "    return bigrams"
   ]
  },
  {
   "cell_type": "markdown",
   "metadata": {},
   "source": [
    "简单查看分词情况"
   ]
  },
  {
   "cell_type": "code",
   "execution_count": 4,
   "metadata": {},
   "outputs": [
    {
     "name": "stdout",
     "output_type": "stream",
     "text": [
      "TRAIN\n",
      "\n",
      "Analysis Statistics\n",
      "Tweets => Total: 11712, Positive: 1919, Neutral: 2514, Negative: 7279\n",
      "User Mentions => Total: 13246, Avg: 1.1310, Max: 6\n",
      "URLs => Total: 972, Avg: 0.0830, Max: 3\n",
      "Emojis => Total: 291, Positive: 204, Negative: 87, Avg: 0.0248, Max: 3\n",
      "Unigrams => Total: 11712, Unique: 11594, Avg: 20.8228, Max: 47, Min: 2\n",
      "Bigrams => Total: 232165, Unique: 84517, Avg: 19.8228\n",
      "\n",
      "TEST\n",
      "\n",
      "Analysis Statistics\n",
      "Tweets => Total: 2928, Positive: 444, Neutral: 585, Negative: 1899\n",
      "User Mentions => Total: 3259, Avg: 1.1130, Max: 5\n",
      "URLs => Total: 239, Avg: 0.0816, Max: 2\n",
      "Emojis => Total: 60, Positive: 45, Negative: 15, Avg: 0.0205, Max: 2\n",
      "Unigrams => Total: 2928, Unique: 5564, Avg: 20.9822, Max: 46, Min: 2\n",
      "Bigrams => Total: 58508, Unique: 30751, Avg: 19.9822\n"
     ]
    }
   ],
   "source": [
    "# count totally how many unique word in the whole train dataset and test dataset\n",
    "print('TRAIN')\n",
    "stats.displayStatsInfo(TRAIN_FILE)\n",
    "\n",
    "print('\\nTEST')\n",
    "stats.displayStatsInfo(TEST_FILE)"
   ]
  },
  {
   "cell_type": "markdown",
   "metadata": {},
   "source": [
    "定义训练集和测试集的标签/目标"
   ]
  },
  {
   "cell_type": "code",
   "execution_count": 5,
   "metadata": {},
   "outputs": [],
   "source": [
    "train_targets = train_data.sentiment\n",
    "test_targets = test_data.sentiment"
   ]
  },
  {
   "cell_type": "markdown",
   "metadata": {},
   "source": [
    "# Naive Bayes"
   ]
  },
  {
   "cell_type": "markdown",
   "metadata": {},
   "source": [
    "文本特征提取：词频向量化 + TF-IDF 处理"
   ]
  },
  {
   "cell_type": "code",
   "execution_count": 6,
   "metadata": {},
   "outputs": [
    {
     "name": "stdout",
     "output_type": "stream",
     "text": [
      "feature dimension: 2160\n"
     ]
    }
   ],
   "source": [
    "countVzer = CountVectorizer(min_df=7, max_df=0.5, tokenizer=word_tokenizer.tokenize)\n",
    "train_counts = countVzer.fit_transform(train_data.text)\n",
    "test_counts = countVzer.transform(test_data.text)\n",
    "tfidfTfmer = TfidfTransformer(smooth_idf=True, sublinear_tf=True, use_idf=True)\n",
    "train_tfidfs = tfidfTfmer.fit_transform(train_counts)\n",
    "test_tfidfs = tfidfTfmer.transform(test_counts)\n",
    "print('feature dimension: {}'.format(train_counts.shape[1]))"
   ]
  },
  {
   "cell_type": "code",
   "execution_count": 7,
   "metadata": {},
   "outputs": [
    {
     "name": "stdout",
     "output_type": "stream",
     "text": [
      "Navie Bayes without Laplace Smoothing\n",
      "              precision    recall  f1-score   support\n",
      "\n",
      "    negative       0.84      0.87      0.85      1899\n",
      "     neutral       0.56      0.52      0.54       585\n",
      "    positive       0.68      0.62      0.65       444\n",
      "\n",
      "   micro avg       0.76      0.76      0.76      2928\n",
      "   macro avg       0.69      0.67      0.68      2928\n",
      "weighted avg       0.76      0.76      0.76      2928\n",
      "\n",
      "Accuracy: 0.7622950819672131\n"
     ]
    }
   ],
   "source": [
    "clf_NB = MultinomialNB(alpha=1.0e-10)\n",
    "clf_NB.fit(train_counts, train_targets)\n",
    "test_predicts = clf_NB.predict(test_counts)\n",
    "print('Navie Bayes without Laplace Smoothing')\n",
    "print(classification_report(test_targets, test_predicts))\n",
    "print('Accuracy: {}'.format(accuracy_score(test_targets, test_predicts)))"
   ]
  },
  {
   "cell_type": "code",
   "execution_count": 8,
   "metadata": {},
   "outputs": [
    {
     "name": "stdout",
     "output_type": "stream",
     "text": [
      "Navie Bayes with Laplace Smoothing\n",
      "              precision    recall  f1-score   support\n",
      "\n",
      "    negative       0.85      0.87      0.86      1899\n",
      "     neutral       0.58      0.53      0.56       585\n",
      "    positive       0.67      0.69      0.68       444\n",
      "\n",
      "   micro avg       0.77      0.77      0.77      2928\n",
      "   macro avg       0.70      0.70      0.70      2928\n",
      "weighted avg       0.77      0.77      0.77      2928\n",
      "\n",
      "Accuracy: 0.7721994535519126\n"
     ]
    }
   ],
   "source": [
    "clf_NB = MultinomialNB(alpha=1.0)\n",
    "clf_NB.fit(train_counts, train_targets)\n",
    "test_predicts = clf_NB.predict(test_counts)\n",
    "print('Navie Bayes with Laplace Smoothing')\n",
    "print(classification_report(test_targets, test_predicts))\n",
    "print('Accuracy: {}'.format(accuracy_score(test_targets, test_predicts)))"
   ]
  },
  {
   "cell_type": "code",
   "execution_count": 9,
   "metadata": {},
   "outputs": [
    {
     "name": "stdout",
     "output_type": "stream",
     "text": [
      "Navie Bayes without Laplace Smoothing (apply TF-IDF)\n",
      "              precision    recall  f1-score   support\n",
      "\n",
      "    negative       0.76      0.97      0.85      1899\n",
      "     neutral       0.64      0.29      0.40       585\n",
      "    positive       0.82      0.47      0.60       444\n",
      "\n",
      "   micro avg       0.76      0.76      0.76      2928\n",
      "   macro avg       0.74      0.58      0.62      2928\n",
      "weighted avg       0.75      0.76      0.72      2928\n",
      "\n",
      "Accuracy: 0.7564890710382514\n"
     ]
    }
   ],
   "source": [
    "clf_NB = MultinomialNB(alpha=1.0e-10)\n",
    "clf_NB.fit(train_tfidfs, train_targets)\n",
    "test_predicts = clf_NB.predict(test_tfidfs)\n",
    "print('Navie Bayes without Laplace Smoothing (apply TF-IDF)')\n",
    "print(classification_report(test_targets, test_predicts))\n",
    "print('Accuracy: {}'.format(accuracy_score(test_targets, test_predicts)))"
   ]
  },
  {
   "cell_type": "code",
   "execution_count": 10,
   "metadata": {},
   "outputs": [
    {
     "name": "stdout",
     "output_type": "stream",
     "text": [
      "Navie Bayes with Laplace Smoothing (apply TF-IDF)\n",
      "              precision    recall  f1-score   support\n",
      "\n",
      "    negative       0.74      0.98      0.85      1899\n",
      "     neutral       0.75      0.24      0.36       585\n",
      "    positive       0.86      0.44      0.58       444\n",
      "\n",
      "   micro avg       0.75      0.75      0.75      2928\n",
      "   macro avg       0.78      0.55      0.59      2928\n",
      "weighted avg       0.76      0.75      0.71      2928\n",
      "\n",
      "Accuracy: 0.7513661202185792\n"
     ]
    }
   ],
   "source": [
    "clf_NB = MultinomialNB(alpha=1.0)\n",
    "clf_NB.fit(train_tfidfs, train_targets)\n",
    "test_predicts = clf_NB.predict(test_tfidfs)\n",
    "print('Navie Bayes with Laplace Smoothing (apply TF-IDF)')\n",
    "print(classification_report(test_targets, test_predicts))\n",
    "print('Accuracy: {}'.format(accuracy_score(test_targets, test_predicts)))"
   ]
  },
  {
   "cell_type": "markdown",
   "metadata": {},
   "source": [
    "准确率最高大概在 0.77~0.78"
   ]
  },
  {
   "cell_type": "markdown",
   "metadata": {},
   "source": [
    "# SVM"
   ]
  },
  {
   "cell_type": "code",
   "execution_count": 11,
   "metadata": {},
   "outputs": [
    {
     "name": "stdout",
     "output_type": "stream",
     "text": [
      "feature dimension: 11594\n"
     ]
    }
   ],
   "source": [
    "countVzer = CountVectorizer(tokenizer=word_tokenizer.tokenize)\n",
    "train_counts = countVzer.fit_transform(train_data.text)\n",
    "test_counts = countVzer.transform(test_data.text)\n",
    "tfidfTfmer = TfidfTransformer(smooth_idf=True, sublinear_tf=True, use_idf=True)\n",
    "train_tfidfs = tfidfTfmer.fit_transform(train_counts)\n",
    "test_tfidfs = tfidfTfmer.transform(test_counts)\n",
    "print('feature dimension: {}'.format(train_counts.shape[1]))"
   ]
  },
  {
   "cell_type": "code",
   "execution_count": 12,
   "metadata": {},
   "outputs": [
    {
     "data": {
      "text/plain": [
       "<8198x11594 sparse matrix of type '<class 'numpy.int64'>'\n",
       "\twith 152479 stored elements in Compressed Sparse Row format>"
      ]
     },
     "execution_count": 12,
     "metadata": {},
     "output_type": "execute_result"
    }
   ],
   "source": [
    "train_counts[:int(train_counts.shape[0]*0.7)]"
   ]
  },
  {
   "cell_type": "code",
   "execution_count": 13,
   "metadata": {},
   "outputs": [
    {
     "data": {
      "text/plain": [
       "<3514x11594 sparse matrix of type '<class 'numpy.int64'>'\n",
       "\twith 69378 stored elements in Compressed Sparse Row format>"
      ]
     },
     "execution_count": 13,
     "metadata": {},
     "output_type": "execute_result"
    }
   ],
   "source": [
    "train_counts[int(train_counts.shape[0]*0.7):]"
   ]
  },
  {
   "cell_type": "code",
   "execution_count": 14,
   "metadata": {},
   "outputs": [
    {
     "name": "stdout",
     "output_type": "stream",
     "text": [
      "SVM with linear kernel\n",
      "              precision    recall  f1-score   support\n",
      "\n",
      "    negative       0.85      0.91      0.88      1899\n",
      "     neutral       0.67      0.59      0.62       585\n",
      "    positive       0.78      0.66      0.72       444\n",
      "\n",
      "   micro avg       0.81      0.81      0.81      2928\n",
      "   macro avg       0.77      0.72      0.74      2928\n",
      "weighted avg       0.80      0.81      0.81      2928\n",
      "\n",
      "Accuracy: 0.8101092896174863\n"
     ]
    }
   ],
   "source": [
    "clf_SVM = svm.LinearSVC(C=0.03)\n",
    "clf_SVM.fit(train_counts, train_targets)\n",
    "test_predicts = clf_SVM.predict(test_counts)\n",
    "print('SVM with linear kernel')\n",
    "print(classification_report(test_targets, test_predicts))\n",
    "print('Accuracy: {}'.format(accuracy_score(test_targets, test_predicts)))\n",
    "output = pd.DataFrame(data={'id':range(1, len(test_predicts)+1), 'polarity': test_predicts})\n",
    "output.to_csv(\"./result/svm-not-apply-tfidf.csv\", index=False)"
   ]
  },
  {
   "cell_type": "code",
   "execution_count": 15,
   "metadata": {},
   "outputs": [
    {
     "name": "stdout",
     "output_type": "stream",
     "text": [
      "SVM with linear kernel (apply TF-IDF)\n",
      "              precision    recall  f1-score   support\n",
      "\n",
      "    negative       0.84      0.94      0.89      1899\n",
      "     neutral       0.69      0.53      0.60       585\n",
      "    positive       0.80      0.63      0.70       444\n",
      "\n",
      "   micro avg       0.81      0.81      0.81      2928\n",
      "   macro avg       0.78      0.70      0.73      2928\n",
      "weighted avg       0.80      0.81      0.80      2928\n",
      "\n",
      "Accuracy: 0.8128415300546448\n"
     ]
    }
   ],
   "source": [
    "clf_SVM = svm.LinearSVC(C=0.28)\n",
    "clf_SVM.fit(train_tfidfs, train_targets)\n",
    "test_predicts = clf_SVM.predict(test_tfidfs)\n",
    "print('SVM with linear kernel (apply TF-IDF)')\n",
    "print(classification_report(test_targets, test_predicts))\n",
    "print('Accuracy: {}'.format(accuracy_score(test_targets, test_predicts)))\n",
    "output = pd.DataFrame(data={'id':range(1, len(test_predicts)+1), 'polarity': test_predicts})\n",
    "output.to_csv(\"./result/svm-apply-tfidf.csv\", index=False)"
   ]
  },
  {
   "cell_type": "markdown",
   "metadata": {},
   "source": [
    "准确率最高可到 0.81"
   ]
  },
  {
   "cell_type": "markdown",
   "metadata": {},
   "source": [
    "# KNN"
   ]
  },
  {
   "cell_type": "code",
   "execution_count": 16,
   "metadata": {},
   "outputs": [
    {
     "name": "stdout",
     "output_type": "stream",
     "text": [
      "feature dimension: 11593\n"
     ]
    }
   ],
   "source": [
    "countVzer = CountVectorizer(min_df=0, max_df=0.9, tokenizer=word_tokenizer.tokenize)\n",
    "train_counts = countVzer.fit_transform(train_data.text)\n",
    "test_counts = countVzer.transform(test_data.text)\n",
    "tfidfTfmer = TfidfTransformer(smooth_idf=True, sublinear_tf=True, use_idf=True)\n",
    "train_tfidfs = tfidfTfmer.fit_transform(train_counts)\n",
    "test_tfidfs = tfidfTfmer.transform(test_counts)\n",
    "print('feature dimension: {}'.format(train_counts.shape[1]))"
   ]
  },
  {
   "cell_type": "code",
   "execution_count": 17,
   "metadata": {},
   "outputs": [
    {
     "name": "stdout",
     "output_type": "stream",
     "text": [
      "KNN-2\n",
      "              precision    recall  f1-score   support\n",
      "\n",
      "    negative       0.77      0.55      0.64      1899\n",
      "     neutral       0.28      0.52      0.36       585\n",
      "    positive       0.44      0.45      0.45       444\n",
      "\n",
      "   micro avg       0.53      0.53      0.53      2928\n",
      "   macro avg       0.50      0.51      0.48      2928\n",
      "weighted avg       0.62      0.53      0.56      2928\n",
      "\n",
      "Accuracy: 0.532103825136612\n"
     ]
    }
   ],
   "source": [
    "from sklearn import neighbors\n",
    "\n",
    "clf_KNN = neighbors.KNeighborsClassifier(n_neighbors=2)\n",
    "clf_KNN.fit(train_counts, train_targets)\n",
    "test_predicts = clf_KNN.predict(test_counts)\n",
    "print('KNN-2')\n",
    "print(classification_report(test_targets, test_predicts))\n",
    "print('Accuracy: {}'.format(accuracy_score(test_targets, test_predicts)))"
   ]
  },
  {
   "cell_type": "code",
   "execution_count": 18,
   "metadata": {},
   "outputs": [
    {
     "name": "stdout",
     "output_type": "stream",
     "text": [
      "KNN-35\n",
      "              precision    recall  f1-score   support\n",
      "\n",
      "    negative       0.77      0.94      0.84      1899\n",
      "     neutral       0.65      0.25      0.36       585\n",
      "    positive       0.72      0.60      0.66       444\n",
      "\n",
      "   micro avg       0.75      0.75      0.75      2928\n",
      "   macro avg       0.71      0.60      0.62      2928\n",
      "weighted avg       0.74      0.75      0.72      2928\n",
      "\n",
      "Accuracy: 0.7513661202185792\n"
     ]
    }
   ],
   "source": [
    "clf_KNN = neighbors.KNeighborsClassifier(n_neighbors=35)\n",
    "clf_KNN.fit(train_tfidfs, train_targets)\n",
    "test_predicts = clf_KNN.predict(test_tfidfs)\n",
    "print('KNN-35')\n",
    "print(classification_report(test_targets, test_predicts))\n",
    "print('Accuracy: {}'.format(accuracy_score(test_targets, test_predicts)))"
   ]
  },
  {
   "cell_type": "markdown",
   "metadata": {},
   "source": [
    "准确率 0.75 左右"
   ]
  },
  {
   "cell_type": "markdown",
   "metadata": {},
   "source": [
    "# FM"
   ]
  },
  {
   "cell_type": "code",
   "execution_count": 19,
   "metadata": {},
   "outputs": [
    {
     "name": "stdout",
     "output_type": "stream",
     "text": [
      "feature dimension: 11593\n"
     ]
    }
   ],
   "source": [
    "countVzer = CountVectorizer(min_df=0, max_df=0.9, tokenizer=word_tokenizer.tokenize)\n",
    "train_counts = countVzer.fit_transform(train_data.text)\n",
    "test_counts = countVzer.transform(test_data.text)\n",
    "tfidfTfmer = TfidfTransformer(smooth_idf=True, sublinear_tf=True, use_idf=True)\n",
    "train_tfidfs = tfidfTfmer.fit_transform(train_counts)\n",
    "test_tfidfs = tfidfTfmer.transform(test_counts)\n",
    "print('feature dimension: {}'.format(train_counts.shape[1]))"
   ]
  },
  {
   "cell_type": "code",
   "execution_count": 20,
   "metadata": {},
   "outputs": [],
   "source": [
    "class FM(nn.Module):\n",
    "    def __init__(self, n=10, k=5):\n",
    "        super(FM, self).__init__()\n",
    "        self.n = n\n",
    "        self.k = k\n",
    "        self.linear = nn.Linear(self.n, 3)   # 前两项线性层\n",
    "        self.V = nn.Parameter(torch.randn(self.n, self.k))   # 交互矩阵\n",
    "    def fm_layer(self, x):\n",
    "        linear_part = self.linear(x)\n",
    "        interaction_part_1 = torch.mm(x, self.V)\n",
    "        interaction_part_1 = torch.pow(interaction_part_1, 2)\n",
    "        interaction_part_2 = torch.mm(torch.pow(x, 2), torch.pow(self.V, 2))\n",
    "        output = linear_part + torch.sum(0.5 * interaction_part_2 - interaction_part_1)\n",
    "        \n",
    "        return output\n",
    "    def forward(self, x):\n",
    "        return self.fm_layer(x)"
   ]
  },
  {
   "cell_type": "code",
   "execution_count": 21,
   "metadata": {
    "scrolled": true
   },
   "outputs": [
    {
     "name": "stdout",
     "output_type": "stream",
     "text": [
      "Fold[1]\n",
      "Epoch[1/7] Train loss: 0.8924\tTrain acc: 0.6269\n",
      "           Test loss: 0.7661\tTest acc: 0.6486\n",
      "Epoch[2/7] Train loss: 0.7614\tTrain acc: 0.6435\n",
      "           Test loss: 0.7252\tTest acc: 0.6547\n",
      "Epoch[3/7] Train loss: 0.7032\tTrain acc: 0.6708\n",
      "           Test loss: 0.6912\tTest acc: 0.6704\n",
      "Epoch[4/7] Train loss: 0.6539\tTrain acc: 0.7028\n",
      "           Test loss: 0.6636\tTest acc: 0.6892\n",
      "Epoch[5/7] Train loss: 0.6126\tTrain acc: 0.7437\n",
      "           Test loss: 0.6332\tTest acc: 0.7094\n",
      "Epoch[6/7] Train loss: 0.5779\tTrain acc: 0.7781\n",
      "           Test loss: 0.6115\tTest acc: 0.7264\n",
      "Epoch[7/7] Train loss: 0.5486\tTrain acc: 0.7997\n",
      "           Test loss: 0.5968\tTest acc: 0.7394\n",
      "Fold[2]\n",
      "Epoch[1/7] Train loss: 0.5405\tTrain acc: 0.8040\n",
      "           Test loss: 0.5831\tTest acc: 0.7490\n",
      "Epoch[2/7] Train loss: 0.5159\tTrain acc: 0.8193\n",
      "           Test loss: 0.5713\tTest acc: 0.7592\n",
      "Epoch[3/7] Train loss: 0.4951\tTrain acc: 0.8308\n",
      "           Test loss: 0.5591\tTest acc: 0.7698\n",
      "Epoch[4/7] Train loss: 0.4769\tTrain acc: 0.8403\n",
      "           Test loss: 0.5510\tTest acc: 0.7725\n",
      "Epoch[5/7] Train loss: 0.4608\tTrain acc: 0.8479\n",
      "           Test loss: 0.5421\tTest acc: 0.7777\n",
      "Epoch[6/7] Train loss: 0.4463\tTrain acc: 0.8526\n",
      "           Test loss: 0.5368\tTest acc: 0.7842\n",
      "Epoch[7/7] Train loss: 0.4332\tTrain acc: 0.8579\n",
      "           Test loss: 0.5299\tTest acc: 0.7835\n",
      "Fold[3]\n",
      "Epoch[1/7] Train loss: 0.4346\tTrain acc: 0.8556\n",
      "           Test loss: 0.5242\tTest acc: 0.7862\n",
      "Epoch[2/7] Train loss: 0.4223\tTrain acc: 0.8604\n",
      "           Test loss: 0.5193\tTest acc: 0.7896\n",
      "Epoch[3/7] Train loss: 0.4109\tTrain acc: 0.8657\n",
      "           Test loss: 0.5155\tTest acc: 0.7923\n",
      "Epoch[4/7] Train loss: 0.4005\tTrain acc: 0.8707\n",
      "           Test loss: 0.5113\tTest acc: 0.7944\n",
      "Epoch[5/7] Train loss: 0.3909\tTrain acc: 0.8748\n",
      "           Test loss: 0.5088\tTest acc: 0.7951\n",
      "Epoch[6/7] Train loss: 0.3819\tTrain acc: 0.8785\n",
      "           Test loss: 0.5055\tTest acc: 0.7968\n",
      "Epoch[7/7] Train loss: 0.3735\tTrain acc: 0.8818\n",
      "           Test loss: 0.5034\tTest acc: 0.7975\n",
      "Fold[4]\n",
      "Epoch[1/7] Train loss: 0.3785\tTrain acc: 0.8794\n",
      "           Test loss: 0.5003\tTest acc: 0.8009\n",
      "Epoch[2/7] Train loss: 0.3698\tTrain acc: 0.8826\n",
      "           Test loss: 0.4995\tTest acc: 0.7995\n",
      "Epoch[3/7] Train loss: 0.3618\tTrain acc: 0.8855\n",
      "           Test loss: 0.4985\tTest acc: 0.8012\n",
      "Epoch[4/7] Train loss: 0.3543\tTrain acc: 0.8894\n",
      "           Test loss: 0.4968\tTest acc: 0.8043\n",
      "Epoch[5/7] Train loss: 0.3473\tTrain acc: 0.8919\n",
      "           Test loss: 0.4960\tTest acc: 0.8026\n",
      "Epoch[6/7] Train loss: 0.3407\tTrain acc: 0.8946\n",
      "           Test loss: 0.4930\tTest acc: 0.8026\n",
      "Epoch[7/7] Train loss: 0.3344\tTrain acc: 0.8966\n",
      "           Test loss: 0.4913\tTest acc: 0.8040\n",
      "Fold[5]\n",
      "Epoch[1/7] Train loss: 0.3346\tTrain acc: 0.8938\n",
      "           Test loss: 0.4883\tTest acc: 0.8046\n",
      "Epoch[2/7] Train loss: 0.3280\tTrain acc: 0.8963\n",
      "           Test loss: 0.4863\tTest acc: 0.8077\n",
      "Epoch[3/7] Train loss: 0.3218\tTrain acc: 0.8993\n",
      "           Test loss: 0.4852\tTest acc: 0.8081\n",
      "Epoch[4/7] Train loss: 0.3160\tTrain acc: 0.9014\n",
      "           Test loss: 0.4839\tTest acc: 0.8094\n",
      "Epoch[5/7] Train loss: 0.3104\tTrain acc: 0.9034\n",
      "           Test loss: 0.4822\tTest acc: 0.8084\n",
      "Epoch[6/7] Train loss: 0.3052\tTrain acc: 0.9054\n",
      "           Test loss: 0.4814\tTest acc: 0.8091\n",
      "Epoch[7/7] Train loss: 0.3001\tTrain acc: 0.9075\n",
      "           Test loss: 0.4812\tTest acc: 0.8101\n"
     ]
    }
   ],
   "source": [
    "num_epochs = 7\n",
    "batch_size = 64\n",
    "lr = 5e-4\n",
    "weight_decay = 1e-5\n",
    "k = 100\n",
    "\n",
    "device = torch.device(\"cuda:1\")\n",
    "\n",
    "clf_FM = FM(train_counts.shape[1], k)\n",
    "clf_FM.to(device)\n",
    "optimizer = torch.optim.Adam(clf_FM.parameters(), lr=lr, weight_decay=weight_decay)\n",
    "loss_fn = nn.CrossEntropyLoss()\n",
    "kf = KFold(n_splits=5, shuffle=True, random_state=0)\n",
    "\n",
    "fm_train_losses = []\n",
    "fm_train_accs = []\n",
    "fm_test_losses = []\n",
    "fm_test_accs = []\n",
    "\n",
    "for f, (train_index, val_index) in enumerate(kf.split(train_counts)):\n",
    "    print('Fold[{}]'.format(f+1))\n",
    "    for epoch in range(num_epochs):\n",
    "        clf_FM.train()\n",
    "        fm_loss = 0\n",
    "        fm_acc = 0\n",
    "        for i in range(int(len(train_index)/batch_size)):\n",
    "            batch_train_counts = Variable(torch.FloatTensor(\n",
    "                train_counts[train_index][i*batch_size:i*batch_size+batch_size].toarray())).to(device)\n",
    "            batch_train_targets = Variable(torch.LongTensor(\n",
    "                train_targets[train_index][i*batch_size:i*batch_size+batch_size].map({\n",
    "                    'negative': 0, 'neutral': 1, 'positive': 2\n",
    "                }).values)).to(device)\n",
    "            output = clf_FM(batch_train_counts)\n",
    "            \n",
    "            loss = loss_fn(output, batch_train_targets)\n",
    "            optimizer.zero_grad()\n",
    "            loss.backward()\n",
    "            optimizer.step()\n",
    "            \n",
    "            batch_train_predicts = torch.max(output, dim=1)[1]\n",
    "            acc = accuracy_score(batch_train_targets.cpu(), batch_train_predicts.cpu())\n",
    "            \n",
    "            fm_loss += loss\n",
    "            fm_acc += acc\n",
    "            \n",
    "        fm_loss = fm_loss/int(len(train_index)/batch_size)\n",
    "        fm_acc = fm_acc/int(len(train_index)/batch_size)\n",
    "        fm_train_losses.append(fm_loss)\n",
    "        fm_train_accs.append(fm_acc)\n",
    "        print('Epoch[{}/{}] Train loss: {:.4f}\\tTrain acc: {:.4f}'.format(epoch+1, num_epochs, fm_loss, fm_acc))\n",
    "        \n",
    "        clf_FM.eval()\n",
    "        with torch.no_grad():\n",
    "            output = clf_FM(torch.FloatTensor(test_counts.toarray()).to(device))\n",
    "            fm_loss = loss_fn(output, torch.LongTensor(test_targets.map({\n",
    "                'negative': 0, 'neutral': 1, 'positive': 2\n",
    "            }).values).to(device))\n",
    "            test_predicts = torch.max(output, dim=1)[1]\n",
    "            fm_acc = accuracy_score(torch.LongTensor(test_targets.map({\n",
    "                'negative': 0, 'neutral': 1, 'positive': 2\n",
    "            }).values).cpu(), test_predicts.cpu())\n",
    "            \n",
    "            fm_test_losses.append(fm_loss)\n",
    "            fm_test_accs.append(fm_acc)\n",
    "            print('           Test loss: {:.4f}\\tTest acc: {:.4f}'.format(fm_loss, fm_acc))"
   ]
  },
  {
   "cell_type": "code",
   "execution_count": 168,
   "metadata": {},
   "outputs": [],
   "source": [
    "output = pd.DataFrame(data={'id':range(1, len(test_predicts.cpu())+1), 'polarity': test_predicts.cpu()})\n",
    "output['polarity'] = output['polarity'].map({0: 'negative', 1: 'neutral', 2: 'positive'})\n",
    "output.to_csv(\"./result/fm-not-apply-tfidf.csv\", index=False)"
   ]
  },
  {
   "cell_type": "code",
   "execution_count": 169,
   "metadata": {
    "scrolled": true
   },
   "outputs": [
    {
     "data": {
      "image/png": "[encoded data removed]",
      "text/plain": [
       "<Figure size 432x288 with 1 Axes>"
      ]
     },
     "metadata": {
      "needs_background": "light"
     },
     "output_type": "display_data"
    },
    {
     "data": {
      "image/png": "[encoded data removed]",
      "text/plain": [
       "<Figure size 432x288 with 1 Axes>"
      ]
     },
     "metadata": {
      "needs_background": "light"
     },
     "output_type": "display_data"
    },
    {
     "data": {
      "image/png": "[encoded data removed]",
      "text/plain": [
       "<Figure size 432x288 with 1 Axes>"
      ]
     },
     "metadata": {
      "needs_background": "light"
     },
     "output_type": "display_data"
    },
    {
     "data": {
      "image/png": "[encoded data removed]",
      "text/plain": [
       "<Figure size 432x288 with 1 Axes>"
      ]
     },
     "metadata": {
      "needs_background": "light"
     },
     "output_type": "display_data"
    }
   ],
   "source": [
    "def show_curve(ys, title):\n",
    "    x = np.array(range(len(ys)))\n",
    "    y = np.array(ys)\n",
    "    plt.plot(x, y, c='b')\n",
    "    plt.axis()\n",
    "    \n",
    "    plt.title('{} Curve:'.format(title))\n",
    "    plt.xlabel('Epoch')\n",
    "    plt.ylabel('{} Value'.format(title))\n",
    "    plt.show()\n",
    "    \n",
    "show_curve(fm_train_losses, 'TRAIN LOSS')\n",
    "show_curve(fm_test_losses, 'TEST LOSS')\n",
    "show_curve(fm_train_accs, 'TRAIN ACC')\n",
    "show_curve(fm_test_accs, 'TEST ACC')"
   ]
  },
  {
   "cell_type": "markdown",
   "metadata": {},
   "source": [
    "准确率在 0.80 ~ 0.81 左右"
   ]
  },
  {
   "cell_type": "code",
   "execution_count": 170,
   "metadata": {},
   "outputs": [
    {
     "name": "stdout",
     "output_type": "stream",
     "text": [
      "Fold[1]\n",
      "Epoch[1/6] Train loss: 0.8348\tTrain acc: 0.6333\n",
      "           Test loss: 0.7393\tTest acc: 0.6592\n",
      "Epoch[2/6] Train loss: 0.6707\tTrain acc: 0.6841\n",
      "           Test loss: 0.6591\tTest acc: 0.6889\n",
      "Epoch[3/6] Train loss: 0.5686\tTrain acc: 0.7699\n",
      "           Test loss: 0.6091\tTest acc: 0.7319\n",
      "Epoch[4/6] Train loss: 0.4986\tTrain acc: 0.8305\n",
      "           Test loss: 0.5768\tTest acc: 0.7565\n",
      "Epoch[5/6] Train loss: 0.4482\tTrain acc: 0.8596\n",
      "           Test loss: 0.5550\tTest acc: 0.7773\n",
      "Epoch[6/6] Train loss: 0.4100\tTrain acc: 0.8792\n",
      "           Test loss: 0.5398\tTest acc: 0.7855\n",
      "Fold[2]\n",
      "Epoch[1/6] Train loss: 0.4159\tTrain acc: 0.8680\n",
      "           Test loss: 0.5269\tTest acc: 0.7903\n",
      "Epoch[2/6] Train loss: 0.3822\tTrain acc: 0.8836\n",
      "           Test loss: 0.5186\tTest acc: 0.7934\n",
      "Epoch[3/6] Train loss: 0.3569\tTrain acc: 0.8939\n",
      "           Test loss: 0.5129\tTest acc: 0.7951\n",
      "Epoch[4/6] Train loss: 0.3363\tTrain acc: 0.9030\n",
      "           Test loss: 0.5089\tTest acc: 0.7958\n",
      "Epoch[5/6] Train loss: 0.3192\tTrain acc: 0.9100\n",
      "           Test loss: 0.5061\tTest acc: 0.7982\n",
      "Epoch[6/6] Train loss: 0.3047\tTrain acc: 0.9151\n",
      "           Test loss: 0.5043\tTest acc: 0.7992\n",
      "Fold[3]\n",
      "Epoch[1/6] Train loss: 0.3198\tTrain acc: 0.9055\n",
      "           Test loss: 0.5021\tTest acc: 0.8009\n",
      "Epoch[2/6] Train loss: 0.3038\tTrain acc: 0.9143\n",
      "           Test loss: 0.5004\tTest acc: 0.8026\n",
      "Epoch[3/6] Train loss: 0.2905\tTrain acc: 0.9209\n",
      "           Test loss: 0.4995\tTest acc: 0.8046\n",
      "Epoch[4/6] Train loss: 0.2792\tTrain acc: 0.9251\n",
      "           Test loss: 0.4992\tTest acc: 0.8053\n",
      "Epoch[5/6] Train loss: 0.2695\tTrain acc: 0.9294\n",
      "           Test loss: 0.4993\tTest acc: 0.8040\n",
      "Epoch[6/6] Train loss: 0.2609\tTrain acc: 0.9323\n",
      "           Test loss: 0.4997\tTest acc: 0.8036\n",
      "Fold[4]\n",
      "Epoch[1/6] Train loss: 0.2747\tTrain acc: 0.9236\n",
      "           Test loss: 0.4988\tTest acc: 0.8029\n",
      "Epoch[2/6] Train loss: 0.2636\tTrain acc: 0.9286\n",
      "           Test loss: 0.4986\tTest acc: 0.8036\n",
      "Epoch[3/6] Train loss: 0.2545\tTrain acc: 0.9317\n",
      "           Test loss: 0.4987\tTest acc: 0.8012\n",
      "Epoch[4/6] Train loss: 0.2467\tTrain acc: 0.9354\n",
      "           Test loss: 0.4992\tTest acc: 0.8009\n",
      "Epoch[5/6] Train loss: 0.2400\tTrain acc: 0.9390\n",
      "           Test loss: 0.4999\tTest acc: 0.8019\n",
      "Epoch[6/6] Train loss: 0.2340\tTrain acc: 0.9414\n",
      "           Test loss: 0.5008\tTest acc: 0.8016\n",
      "Fold[5]\n",
      "Epoch[1/6] Train loss: 0.2462\tTrain acc: 0.9339\n",
      "           Test loss: 0.5008\tTest acc: 0.8012\n",
      "Epoch[2/6] Train loss: 0.2376\tTrain acc: 0.9373\n",
      "           Test loss: 0.5009\tTest acc: 0.8009\n",
      "Epoch[3/6] Train loss: 0.2305\tTrain acc: 0.9403\n",
      "           Test loss: 0.5013\tTest acc: 0.8016\n",
      "Epoch[4/6] Train loss: 0.2245\tTrain acc: 0.9426\n",
      "           Test loss: 0.5020\tTest acc: 0.8009\n",
      "Epoch[5/6] Train loss: 0.2194\tTrain acc: 0.9451\n",
      "           Test loss: 0.5029\tTest acc: 0.7999\n",
      "Epoch[6/6] Train loss: 0.2149\tTrain acc: 0.9476\n",
      "           Test loss: 0.5039\tTest acc: 0.8009\n"
     ]
    }
   ],
   "source": [
    "num_epochs = 6\n",
    "batch_size = 64\n",
    "lr = 5e-3\n",
    "weight_decay = 1e-5\n",
    "k = 100\n",
    "\n",
    "device = torch.device(\"cuda:1\")\n",
    "\n",
    "clf_FM = FM(train_tfidfs.shape[1], k)\n",
    "clf_FM.to(device)\n",
    "optimizer = torch.optim.Adam(clf_FM.parameters(), lr=lr, weight_decay=weight_decay)\n",
    "loss_fn = nn.CrossEntropyLoss()\n",
    "kf = KFold(n_splits=5, shuffle=True, random_state=0)\n",
    "\n",
    "fm_train_losses = []\n",
    "fm_train_accs = []\n",
    "fm_test_losses = []\n",
    "fm_test_accs = []\n",
    "\n",
    "for f, (train_index, val_index) in enumerate(kf.split(train_tfidfs)):\n",
    "    print('Fold[{}]'.format(f+1))\n",
    "    for epoch in range(num_epochs):\n",
    "        clf_FM.train()\n",
    "        fm_loss = 0\n",
    "        fm_acc = 0\n",
    "        for i in range(int(len(train_index)/batch_size)):\n",
    "            batch_train_tfidfs = Variable(torch.FloatTensor(\n",
    "                train_tfidfs[train_index][i*batch_size:i*batch_size+batch_size].toarray())).to(device)\n",
    "            batch_train_targets = Variable(torch.LongTensor(\n",
    "                train_targets[train_index][i*batch_size:i*batch_size+batch_size].map({\n",
    "                    'negative': 0, 'neutral': 1, 'positive': 2\n",
    "                }).values)).to(device)\n",
    "            output = clf_FM(batch_train_tfidfs)\n",
    "            \n",
    "            loss = loss_fn(output, batch_train_targets)\n",
    "            optimizer.zero_grad()\n",
    "            loss.backward()\n",
    "            optimizer.step()\n",
    "            \n",
    "            batch_train_predicts = torch.max(output, dim=1)[1]\n",
    "            acc = accuracy_score(batch_train_targets.cpu(), batch_train_predicts.cpu())\n",
    "            \n",
    "            fm_loss += loss\n",
    "            fm_acc += acc\n",
    "            \n",
    "        fm_loss = fm_loss/int(len(train_index)/batch_size)\n",
    "        fm_acc = fm_acc/int(len(train_index)/batch_size)\n",
    "        fm_train_losses.append(fm_loss)\n",
    "        fm_train_accs.append(fm_acc)\n",
    "        print('Epoch[{}/{}] Train loss: {:.4f}\\tTrain acc: {:.4f}'.format(epoch+1, num_epochs, fm_loss, fm_acc))\n",
    "        \n",
    "        clf_FM.eval()\n",
    "        with torch.no_grad():\n",
    "            output = clf_FM(torch.FloatTensor(test_tfidfs.toarray()).to(device))\n",
    "            fm_loss = loss_fn(output, torch.LongTensor(test_targets.map({\n",
    "                'negative': 0, 'neutral': 1, 'positive': 2\n",
    "            }).values).to(device))\n",
    "            test_predicts = torch.max(output, dim=1)[1]\n",
    "            fm_acc = accuracy_score(torch.LongTensor(test_targets.map({\n",
    "                'negative': 0, 'neutral': 1, 'positive': 2\n",
    "            }).values).cpu(), test_predicts.cpu())\n",
    "            \n",
    "            fm_test_losses.append(fm_loss)\n",
    "            fm_test_accs.append(fm_acc)\n",
    "            print('           Test loss: {:.4f}\\tTest acc: {:.4f}'.format(fm_loss, fm_acc))"
   ]
  },
  {
   "cell_type": "code",
   "execution_count": 171,
   "metadata": {},
   "outputs": [],
   "source": [
    "output = pd.DataFrame(data={'id':range(1, len(test_predicts.cpu())+1), 'polarity': test_predicts.cpu()})\n",
    "output['polarity'] = output['polarity'].map({0: 'negative', 1: 'neutral', 2: 'positive'})\n",
    "output.to_csv(\"./result/fm-apply-tfidf.csv\", index=False)"
   ]
  },
  {
   "cell_type": "code",
   "execution_count": 172,
   "metadata": {},
   "outputs": [
    {
     "data": {
      "image/png": "[encoded data removed]",
      "text/plain": [
       "<Figure size 432x288 with 1 Axes>"
      ]
     },
     "metadata": {
      "needs_background": "light"
     },
     "output_type": "display_data"
    },
    {
     "data": {
      "image/png": "[encoded data removed]",
      "text/plain": [
       "<Figure size 432x288 with 1 Axes>"
      ]
     },
     "metadata": {
      "needs_background": "light"
     },
     "output_type": "display_data"
    },
    {
     "data": {
      "image/png": "[encoded data removed]",
      "text/plain": [
       "<Figure size 432x288 with 1 Axes>"
      ]
     },
     "metadata": {
      "needs_background": "light"
     },
     "output_type": "display_data"
    },
    {
     "data": {
      "image/png": "[encoded data removed]",
      "text/plain": [
       "<Figure size 432x288 with 1 Axes>"
      ]
     },
     "metadata": {
      "needs_background": "light"
     },
     "output_type": "display_data"
    }
   ],
   "source": [
    "def show_curve(ys, title):\n",
    "    x = np.array(range(len(ys)))\n",
    "    y = np.array(ys)\n",
    "    plt.plot(x, y, c='b')\n",
    "    plt.axis()\n",
    "    \n",
    "    plt.title('{} Curve:'.format(title))\n",
    "    plt.xlabel('Epoch')\n",
    "    plt.ylabel('{} Value'.format(title))\n",
    "    plt.show()\n",
    "    \n",
    "show_curve(fm_train_losses, 'TRAIN LOSS')\n",
    "show_curve(fm_test_losses, 'TEST LOSS')\n",
    "show_curve(fm_train_accs, 'TRAIN ACC')\n",
    "show_curve(fm_test_accs, 'TEST ACC')"
   ]
  },
  {
   "cell_type": "markdown",
   "metadata": {},
   "source": [
    "准确率在 0.80 左右"
   ]
  }
 ],
 "metadata": {
  "kernelspec": {
   "display_name": "Python 3",
   "language": "python",
   "name": "python3"
  },
  "language_info": {
   "codemirror_mode": {
    "name": "ipython",
    "version": 3
   },
   "file_extension": ".py",
   "mimetype": "text/x-python",
   "name": "python",
   "nbconvert_exporter": "python",
   "pygments_lexer": "ipython3",
   "version": "3.6.8"
  }
 },
 "nbformat": 4,
 "nbformat_minor": 2
}
