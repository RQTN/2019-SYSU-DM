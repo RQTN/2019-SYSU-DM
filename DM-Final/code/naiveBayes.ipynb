{
 "cells": [
  {
   "cell_type": "markdown",
   "metadata": {},
   "source": [
    "# Set Up"
   ]
  },
  {
   "cell_type": "markdown",
   "metadata": {},
   "source": [
    "导入需要的模块"
   ]
  },
  {
   "cell_type": "code",
   "execution_count": 1,
   "metadata": {},
   "outputs": [],
   "source": [
    "import pandas as pd\n",
    "import nltk\n",
    "from nltk.tokenize import WordPunctTokenizer\n",
    "\n",
    "from sklearn.feature_extraction.text import CountVectorizer, TfidfTransformer\n",
    "from sklearn.naive_bayes import MultinomialNB\n",
    "from sklearn import svm\n",
    "from sklearn.metrics import accuracy_score\n",
    "from sklearn.metrics import classification_report\n",
    "\n",
    "import stats"
   ]
  },
  {
   "cell_type": "markdown",
   "metadata": {},
   "source": [
    "读取训练集数据和测试集数据并定义分词器"
   ]
  },
  {
   "cell_type": "code",
   "execution_count": 2,
   "metadata": {},
   "outputs": [],
   "source": [
    "TRAIN_FILE = '../data/processed_train.csv'\n",
    "TEST_FILE = '../data/processed_test.csv'\n",
    "\n",
    "train_data = pd.read_csv(TRAIN_FILE)\n",
    "test_data = pd.read_csv(TEST_FILE)\n",
    "word_tokenizer = WordPunctTokenizer()\n",
    "\n",
    "def bigram_tokenize(text):\n",
    "    bigrams = []\n",
    "    unigrams = word_tokenizer.tokenize(text)\n",
    "    for i in range(len(unigrams) - 1):\n",
    "        bigrams.append('-'.join([unigrams[i], unigrams[i+1]]))\n",
    "    return bigrams"
   ]
  },
  {
   "cell_type": "markdown",
   "metadata": {},
   "source": [
    "简单查看分词情况"
   ]
  },
  {
   "cell_type": "code",
   "execution_count": 3,
   "metadata": {},
   "outputs": [
    {
     "name": "stdout",
     "output_type": "stream",
     "text": [
      "TRAIN\n",
      "\n",
      "Analysis Statistics\n",
      "Tweets => Total: 10248, Positive: 1704, Neutral: 2213, Negative: 6331\n",
      "User Mentions => Total: 11620, Avg: 1.1339, Max: 6\n",
      "URLs => Total: 865, Avg: 0.0844, Max: 3\n",
      "Emojis => Total: 262, Positive: 181, Negative: 81, Avg: 0.0256, Max: 3\n",
      "Unigrams => Total: 10248, Unique: 10626, Avg: 20.7293, Max: 47, Min: 2\n",
      "Bigrams => Total: 202186, Unique: 75383, Avg: 19.7293\n",
      "\n",
      "TEST\n",
      "\n",
      "Analysis Statistics\n",
      "Tweets => Total: 4392, Positive: 659, Neutral: 886, Negative: 2847\n",
      "User Mentions => Total: 4885, Avg: 1.1122, Max: 5\n",
      "URLs => Total: 346, Avg: 0.0788, Max: 2\n",
      "Emojis => Total: 89, Positive: 68, Negative: 21, Avg: 0.0203, Max: 2\n",
      "Unigrams => Total: 4392, Unique: 7011, Avg: 21.1473, Max: 46, Min: 2\n",
      "Bigrams => Total: 88487, Unique: 42577, Avg: 20.1473\n"
     ]
    }
   ],
   "source": [
    "# count totally how many unique word in the whole train dataset and test dataset\n",
    "print('TRAIN')\n",
    "stats.displayStatsInfo(TRAIN_FILE)\n",
    "\n",
    "print('\\nTEST')\n",
    "stats.displayStatsInfo(TEST_FILE)"
   ]
  },
  {
   "cell_type": "markdown",
   "metadata": {},
   "source": [
    "定义训练集和测试集的标签/目标"
   ]
  },
  {
   "cell_type": "code",
   "execution_count": 4,
   "metadata": {},
   "outputs": [],
   "source": [
    "train_targets = train_data.sentiment\n",
    "test_targets = test_data.sentiment"
   ]
  },
  {
   "cell_type": "markdown",
   "metadata": {},
   "source": [
    "# Naive Bayes"
   ]
  },
  {
   "cell_type": "markdown",
   "metadata": {},
   "source": [
    "文本特征提取：词频向量化 + TF-IDF 处理"
   ]
  },
  {
   "cell_type": "code",
   "execution_count": 5,
   "metadata": {},
   "outputs": [
    {
     "name": "stdout",
     "output_type": "stream",
     "text": [
      "feature dimension: 1974\n"
     ]
    }
   ],
   "source": [
    "countVzer = CountVectorizer(min_df=7, max_df=0.5, tokenizer=word_tokenizer.tokenize)\n",
    "train_counts = countVzer.fit_transform(train_data.text)\n",
    "test_counts = countVzer.transform(test_data.text)\n",
    "tfidfTfmer = TfidfTransformer(smooth_idf=True, sublinear_tf=True, use_idf=True)\n",
    "train_tfidfs = tfidfTfmer.fit_transform(train_counts)\n",
    "test_tfidfs = tfidfTfmer.fit_transform(test_counts)\n",
    "print('feature dimension: {}'.format(train_counts.shape[1]))"
   ]
  },
  {
   "cell_type": "code",
   "execution_count": 6,
   "metadata": {},
   "outputs": [
    {
     "name": "stdout",
     "output_type": "stream",
     "text": [
      "Navie Bayes without Laplace Smoothing\n",
      "              precision    recall  f1-score   support\n",
      "\n",
      "    negative       0.82      0.87      0.84      2847\n",
      "     neutral       0.54      0.49      0.51       886\n",
      "    positive       0.69      0.62      0.65       659\n",
      "\n",
      "   micro avg       0.75      0.75      0.75      4392\n",
      "   macro avg       0.68      0.66      0.67      4392\n",
      "weighted avg       0.75      0.75      0.75      4392\n",
      "\n",
      "Accuracy: 0.7534153005464481\n"
     ]
    }
   ],
   "source": [
    "clf_NB = MultinomialNB(alpha=1.0e-10)\n",
    "clf_NB.fit(train_counts, train_targets)\n",
    "test_predicts = clf_NB.predict(test_counts)\n",
    "print('Navie Bayes without Laplace Smoothing')\n",
    "print(classification_report(test_targets, test_predicts))\n",
    "print('Accuracy: {}'.format(accuracy_score(test_targets, test_predicts)))"
   ]
  },
  {
   "cell_type": "code",
   "execution_count": 7,
   "metadata": {},
   "outputs": [
    {
     "name": "stdout",
     "output_type": "stream",
     "text": [
      "Navie Bayes with Laplace Smoothing\n",
      "              precision    recall  f1-score   support\n",
      "\n",
      "    negative       0.84      0.85      0.85      2847\n",
      "     neutral       0.56      0.51      0.53       886\n",
      "    positive       0.66      0.70      0.68       659\n",
      "\n",
      "   micro avg       0.76      0.76      0.76      4392\n",
      "   macro avg       0.69      0.69      0.69      4392\n",
      "weighted avg       0.76      0.76      0.76      4392\n",
      "\n",
      "Accuracy: 0.7607012750455373\n"
     ]
    }
   ],
   "source": [
    "clf_NB = MultinomialNB(alpha=1.0)\n",
    "clf_NB.fit(train_counts, train_targets)\n",
    "test_predicts = clf_NB.predict(test_counts)\n",
    "print('Navie Bayes with Laplace Smoothing')\n",
    "print(classification_report(test_targets, test_predicts))\n",
    "print('Accuracy: {}'.format(accuracy_score(test_targets, test_predicts)))"
   ]
  },
  {
   "cell_type": "code",
   "execution_count": 8,
   "metadata": {},
   "outputs": [
    {
     "name": "stdout",
     "output_type": "stream",
     "text": [
      "Navie Bayes without Laplace Smoothing (apply TF-IDF)\n",
      "              precision    recall  f1-score   support\n",
      "\n",
      "    negative       0.76      0.96      0.85      2847\n",
      "     neutral       0.64      0.28      0.39       886\n",
      "    positive       0.81      0.47      0.60       659\n",
      "\n",
      "   micro avg       0.75      0.75      0.75      4392\n",
      "   macro avg       0.74      0.57      0.61      4392\n",
      "weighted avg       0.74      0.75      0.72      4392\n",
      "\n",
      "Accuracy: 0.7513661202185792\n"
     ]
    }
   ],
   "source": [
    "clf_NB = MultinomialNB(alpha=1.0e-10)\n",
    "clf_NB.fit(train_tfidfs, train_targets)\n",
    "test_predicts = clf_NB.predict(test_tfidfs)\n",
    "print('Navie Bayes without Laplace Smoothing (apply TF-IDF)')\n",
    "print(classification_report(test_targets, test_predicts))\n",
    "print('Accuracy: {}'.format(accuracy_score(test_targets, test_predicts)))"
   ]
  },
  {
   "cell_type": "code",
   "execution_count": 9,
   "metadata": {},
   "outputs": [
    {
     "name": "stdout",
     "output_type": "stream",
     "text": [
      "Navie Bayes with Laplace Smoothing (apply TF-IDF)\n",
      "              precision    recall  f1-score   support\n",
      "\n",
      "    negative       0.74      0.98      0.84      2847\n",
      "     neutral       0.72      0.21      0.33       886\n",
      "    positive       0.84      0.44      0.58       659\n",
      "\n",
      "   micro avg       0.74      0.74      0.74      4392\n",
      "   macro avg       0.77      0.54      0.58      4392\n",
      "weighted avg       0.75      0.74      0.70      4392\n",
      "\n",
      "Accuracy: 0.7443078324225865\n"
     ]
    }
   ],
   "source": [
    "clf_NB = MultinomialNB(alpha=1.0)\n",
    "clf_NB.fit(train_tfidfs, train_targets)\n",
    "test_predicts = clf_NB.predict(test_tfidfs)\n",
    "print('Navie Bayes with Laplace Smoothing (apply TF-IDF)')\n",
    "print(classification_report(test_targets, test_predicts))\n",
    "print('Accuracy: {}'.format(accuracy_score(test_targets, test_predicts)))"
   ]
  },
  {
   "cell_type": "markdown",
   "metadata": {},
   "source": [
    "# SVM"
   ]
  },
  {
   "cell_type": "code",
   "execution_count": 10,
   "metadata": {},
   "outputs": [
    {
     "name": "stdout",
     "output_type": "stream",
     "text": [
      "feature dimension: 10626\n"
     ]
    }
   ],
   "source": [
    "countVzer = CountVectorizer(tokenizer=word_tokenizer.tokenize)\n",
    "train_counts = countVzer.fit_transform(train_data.text)\n",
    "test_counts = countVzer.transform(test_data.text)\n",
    "tfidfTfmer = TfidfTransformer(smooth_idf=True, sublinear_tf=True, use_idf=True)\n",
    "train_tfidfs = tfidfTfmer.fit_transform(train_counts)\n",
    "test_tfidfs = tfidfTfmer.fit_transform(test_counts)\n",
    "print('feature dimension: {}'.format(train_counts.shape[1]))"
   ]
  },
  {
   "cell_type": "code",
   "execution_count": 11,
   "metadata": {},
   "outputs": [
    {
     "name": "stdout",
     "output_type": "stream",
     "text": [
      "SVM with linear kernel\n",
      "              precision    recall  f1-score   support\n",
      "\n",
      "    negative       0.85      0.90      0.87      2847\n",
      "     neutral       0.62      0.57      0.60       886\n",
      "    positive       0.77      0.66      0.71       659\n",
      "\n",
      "   micro avg       0.80      0.80      0.80      4392\n",
      "   macro avg       0.75      0.71      0.73      4392\n",
      "weighted avg       0.79      0.80      0.79      4392\n",
      "\n",
      "Accuracy: 0.7971311475409836\n"
     ]
    }
   ],
   "source": [
    "clf_SVM = svm.LinearSVC(C=0.05)\n",
    "clf_SVM.fit(train_counts, train_targets)\n",
    "test_predicts = clf_SVM.predict(test_counts)\n",
    "print('SVM with linear kernel')\n",
    "print(classification_report(test_targets, test_predicts))\n",
    "print('Accuracy: {}'.format(accuracy_score(test_targets, test_predicts)))"
   ]
  },
  {
   "cell_type": "code",
   "execution_count": 12,
   "metadata": {},
   "outputs": [
    {
     "name": "stdout",
     "output_type": "stream",
     "text": [
      "SVM with linear kernel (apply TF-IDF)\n",
      "              precision    recall  f1-score   support\n",
      "\n",
      "    negative       0.84      0.93      0.88      2847\n",
      "     neutral       0.66      0.50      0.57       886\n",
      "    positive       0.79      0.66      0.72       659\n",
      "\n",
      "   micro avg       0.80      0.80      0.80      4392\n",
      "   macro avg       0.76      0.70      0.72      4392\n",
      "weighted avg       0.79      0.80      0.79      4392\n",
      "\n",
      "Accuracy: 0.802367941712204\n"
     ]
    }
   ],
   "source": [
    "clf_SVM = svm.LinearSVC(C=0.3)\n",
    "clf_SVM.fit(train_tfidfs, train_targets)\n",
    "test_predicts = clf_SVM.predict(test_tfidfs)\n",
    "print('SVM with linear kernel (apply TF-IDF)')\n",
    "print(classification_report(test_targets, test_predicts))\n",
    "print('Accuracy: {}'.format(accuracy_score(test_targets, test_predicts)))"
   ]
  },
  {
   "cell_type": "markdown",
   "metadata": {},
   "source": [
    "# KNN"
   ]
  },
  {
   "cell_type": "code",
   "execution_count": 13,
   "metadata": {},
   "outputs": [
    {
     "name": "stdout",
     "output_type": "stream",
     "text": [
      "feature dimension: 10625\n"
     ]
    }
   ],
   "source": [
    "countVzer = CountVectorizer(min_df=0, max_df=0.9, tokenizer=word_tokenizer.tokenize)\n",
    "train_counts = countVzer.fit_transform(train_data.text)\n",
    "test_counts = countVzer.transform(test_data.text)\n",
    "tfidfTfmer = TfidfTransformer(smooth_idf=True, sublinear_tf=True, use_idf=True)\n",
    "train_tfidfs = tfidfTfmer.fit_transform(train_counts)\n",
    "test_tfidfs = tfidfTfmer.fit_transform(test_counts)\n",
    "print('feature dimension: {}'.format(train_counts.shape[1]))"
   ]
  },
  {
   "cell_type": "code",
   "execution_count": 14,
   "metadata": {},
   "outputs": [
    {
     "name": "stdout",
     "output_type": "stream",
     "text": [
      "KNN-5\n",
      "              precision    recall  f1-score   support\n",
      "\n",
      "    negative       0.83      0.44      0.57      2847\n",
      "     neutral       0.30      0.63      0.41       886\n",
      "    positive       0.40      0.63      0.49       659\n",
      "\n",
      "   micro avg       0.50      0.50      0.50      4392\n",
      "   macro avg       0.51      0.56      0.49      4392\n",
      "weighted avg       0.66      0.50      0.53      4392\n",
      "\n",
      "Accuracy: 0.5034153005464481\n"
     ]
    }
   ],
   "source": [
    "from sklearn import neighbors\n",
    "\n",
    "clf_KNN = neighbors.KNeighborsClassifier(n_neighbors=5)\n",
    "clf_KNN.fit(train_counts, train_targets)\n",
    "test_predicts = clf_KNN.predict(test_counts)\n",
    "print('KNN-5')\n",
    "print(classification_report(test_targets, test_predicts))\n",
    "print('Accuracy: {}'.format(accuracy_score(test_targets, test_predicts)))"
   ]
  },
  {
   "cell_type": "code",
   "execution_count": 15,
   "metadata": {},
   "outputs": [
    {
     "name": "stdout",
     "output_type": "stream",
     "text": [
      "KNN-5\n",
      "              precision    recall  f1-score   support\n",
      "\n",
      "    negative       0.79      0.83      0.81      2847\n",
      "     neutral       0.45      0.38      0.41       886\n",
      "    positive       0.60      0.61      0.60       659\n",
      "\n",
      "   micro avg       0.70      0.70      0.70      4392\n",
      "   macro avg       0.61      0.60      0.61      4392\n",
      "weighted avg       0.69      0.70      0.70      4392\n",
      "\n",
      "Accuracy: 0.7040072859744991\n"
     ]
    }
   ],
   "source": [
    "clf_KNN = neighbors.KNeighborsClassifier(n_neighbors=5)\n",
    "clf_KNN.fit(train_tfidfs, train_targets)\n",
    "test_predicts = clf_KNN.predict(test_tfidfs)\n",
    "print('KNN-5')\n",
    "print(classification_report(test_targets, test_predicts))\n",
    "print('Accuracy: {}'.format(accuracy_score(test_targets, test_predicts)))"
   ]
  }
 ],
 "metadata": {
  "kernelspec": {
   "display_name": "Python 3",
   "language": "python",
   "name": "python3"
  },
  "language_info": {
   "codemirror_mode": {
    "name": "ipython",
    "version": 3
   },
   "file_extension": ".py",
   "mimetype": "text/x-python",
   "name": "python",
   "nbconvert_exporter": "python",
   "pygments_lexer": "ipython3",
   "version": "3.6.8"
  }
 },
 "nbformat": 4,
 "nbformat_minor": 2
}
